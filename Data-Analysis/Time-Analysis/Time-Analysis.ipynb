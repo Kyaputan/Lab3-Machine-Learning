{
 "cells": [
  {
   "cell_type": "code",
   "execution_count": null,
   "metadata": {},
   "outputs": [],
   "source": [
    "#FOR ANALYSIS/CLEANING/COMPUTATION:\n",
    "import pandas as pd\n",
    "import numpy as np\n",
    "\n",
    "#FOR VISUALIZATION:\n",
    "import matplotlib.pyplot as plt\n",
    "import seaborn as sns\n",
    "import warnings\n",
    "warnings.filterwarnings('ignore')"
   ]
  },
  {
   "cell_type": "code",
   "execution_count": null,
   "metadata": {},
   "outputs": [],
   "source": [
    "import time\n",
    "import pandas as pd\n",
    "\n",
    "print(\"Loading data file now, this could take a while depending on file size\")\n",
    "start = time.time()\n",
    "df = pd.read_csv('DATASET.csv') # ADD-CSV\n",
    "end = time.time()\n",
    "print(\"Loading took \" + str(round(end - start, 2)) + \" seconds\")\n",
    "missing_values = df.isna().sum().sum()\n",
    "duplicated_values = df.duplicated().sum()\n",
    "print(f'\\nMissing values: {missing_values}')\n",
    "print(f'Duplicated values: {duplicated_values}')\n",
    "if missing_values >= 1:\n",
    "    print('\\nMissing values by column:')\n",
    "    print(df.isna().sum())\n",
    "print(\"\\nUnique Values in Each Column:\")\n",
    "print(df.nunique())"
   ]
  }
 ],
 "metadata": {
  "language_info": {
   "name": "python"
  }
 },
 "nbformat": 4,
 "nbformat_minor": 2
}
