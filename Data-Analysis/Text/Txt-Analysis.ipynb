{
 "cells": [
  {
   "cell_type": "code",
   "execution_count": 11,
   "metadata": {},
   "outputs": [],
   "source": [
    "#FOR ANALYSIS/CLEANING/COMPUTATION:\n",
    "import pandas as pd\n",
    "import numpy as np\n",
    "\n",
    "#FOR VISUALIZATION:\n",
    "import matplotlib.pyplot as plt\n",
    "import seaborn as sns"
   ]
  },
  {
   "cell_type": "markdown",
   "metadata": {},
   "source": [
    "# Load Data"
   ]
  },
  {
   "cell_type": "code",
   "execution_count": 12,
   "metadata": {},
   "outputs": [
    {
     "name": "stdout",
     "output_type": "stream",
     "text": [
      "Loading data file now, this could take a while depending on file size\n",
      "Loading took 0.12 seconds\n",
      "\n",
      "Missing values: 16\n",
      "Duplicated values: 1229\n",
      "\n",
      "Missing values by column:\n",
      "Review    16\n",
      "label      0\n",
      "dtype: int64\n",
      "\n",
      "Unique Values in Each Column:\n",
      "Review    51472\n",
      "label         2\n",
      "dtype: int64\n"
     ]
    }
   ],
   "source": [
    "import time\n",
    "import pandas as pd\n",
    "\n",
    "print(\"Loading data file now, this could take a while depending on file size\")\n",
    "start = time.time()\n",
    "df = pd.read_csv('DATASET.csv') # ADD-CSV\n",
    "end = time.time()\n",
    "print(\"Loading took \" + str(round(end - start, 2)) + \" seconds\")\n",
    "missing_values = df.isna().sum().sum()\n",
    "duplicated_values = df.duplicated().sum()\n",
    "print(f'\\nMissing values: {missing_values}')\n",
    "print(f'Duplicated values: {duplicated_values}')\n",
    "if missing_values >= 1:\n",
    "    print('\\nMissing values by column:')\n",
    "    print(df.isna().sum())\n",
    "print(\"\\nUnique Values in Each Column:\")\n",
    "print(df.nunique())"
   ]
  },
  {
   "cell_type": "code",
   "execution_count": 13,
   "metadata": {},
   "outputs": [],
   "source": [
    "df.dropna(inplace=True)"
   ]
  },
  {
   "cell_type": "code",
   "execution_count": 14,
   "metadata": {},
   "outputs": [
    {
     "data": {
      "text/plain": [
       "label\n",
       "NEGATIVE    29423\n",
       "POSITIVE    23263\n",
       "Name: count, dtype: int64"
      ]
     },
     "execution_count": 14,
     "metadata": {},
     "output_type": "execute_result"
    }
   ],
   "source": [
    "df['label'].value_counts()"
   ]
  },
  {
   "cell_type": "markdown",
   "metadata": {},
   "source": [
    "# View Data"
   ]
  },
  {
   "cell_type": "code",
   "execution_count": 15,
   "metadata": {},
   "outputs": [
    {
     "data": {
      "image/png": "[encoded data removed]",
      "text/plain": [
       "<Figure size 1500x600 with 1 Axes>"
      ]
     },
     "metadata": {},
     "output_type": "display_data"
    }
   ],
   "source": [
    "def plot_categorical_distributions(columns, data=df, palette='muted'):\n",
    "    plt.figure(figsize=(15, 6))  \n",
    "    \n",
    "    for i, column_name in enumerate(columns):\n",
    "        plt.subplot(1, 3, i + 1)  \n",
    "        value_counts = data[column_name].value_counts()\n",
    "        value_counts.plot.pie(autopct='%1.1f%%', colors=sns.color_palette\n",
    "                            (palette), startangle=90, explode=[0.05] * value_counts.nunique())\n",
    "        \n",
    "        plt.title(f'Percentage Distribution of {column_name}')\n",
    "        plt.ylabel('')  \n",
    "    df[columns].value_counts()\n",
    "    plt.tight_layout()\n",
    "    plt.show()\n",
    "\n",
    "\n",
    "columns_to_plot = ['label']\n",
    "plot_categorical_distributions(columns_to_plot)"
   ]
  },
  {
   "cell_type": "markdown",
   "metadata": {},
   "source": [
    "# Clean Text"
   ]
  },
  {
   "cell_type": "code",
   "execution_count": 16,
   "metadata": {},
   "outputs": [],
   "source": [
    "import re\n",
    "import numpy as np\n",
    "def clean_text(text):\n",
    "    if pd.isna(text):\n",
    "        return np.nan\n",
    "    text = re.sub(r'Ã[\\x80-\\xBF]+', ' ', text)\n",
    "    text = re.sub(r'[^a-zA-Zก-ฮะ-์\\s]', ' ', text)\n",
    "    text = re.sub(r'\\s+', ' ', text)\n",
    "    text = text.strip()\n",
    "    return text.lower()"
   ]
  },
  {
   "cell_type": "code",
   "execution_count": 17,
   "metadata": {},
   "outputs": [],
   "source": [
    "df['Clean_text'] = df['Review'].apply(clean_text)"
   ]
  },
  {
   "cell_type": "code",
   "execution_count": 18,
   "metadata": {},
   "outputs": [
    {
     "name": "stdout",
     "output_type": "stream",
     "text": [
      "Great music service, the audio is high quality and the app is easy to use. Also very quick and friendly support.\n",
      "great music service the audio is high quality and the app is easy to use also very quick and friendly support\n"
     ]
    }
   ],
   "source": [
    "pd.set_option('display.max_colwidth', None)\n",
    "print(df.iloc[0]['Review'])\n",
    "print(df.iloc[0]['Clean_text'])"
   ]
  },
  {
   "cell_type": "markdown",
   "metadata": {},
   "source": [
    "# ทำ TOKENIZATION"
   ]
  },
  {
   "cell_type": "code",
   "execution_count": 19,
   "metadata": {},
   "outputs": [
    {
     "name": "stderr",
     "output_type": "stream",
     "text": [
      "[nltk_data] Downloading package punkt_tab to\n",
      "[nltk_data]     C:\\Users\\singk\\AppData\\Roaming\\nltk_data...\n",
      "[nltk_data]   Package punkt_tab is already up-to-date!\n",
      "[nltk_data] Downloading package stopwords to\n",
      "[nltk_data]     C:\\Users\\singk\\AppData\\Roaming\\nltk_data...\n",
      "[nltk_data]   Package stopwords is already up-to-date!\n",
      "[nltk_data] Downloading package wordnet to\n",
      "[nltk_data]     C:\\Users\\singk\\AppData\\Roaming\\nltk_data...\n",
      "[nltk_data]   Package wordnet is already up-to-date!\n"
     ]
    },
    {
     "data": {
      "text/plain": [
       "True"
      ]
     },
     "execution_count": 19,
     "metadata": {},
     "output_type": "execute_result"
    }
   ],
   "source": [
    "import nltk\n",
    "from nltk.tokenize import word_tokenize\n",
    "from nltk.corpus import stopwords\n",
    "nltk.download('punkt_tab')\n",
    "nltk.download('stopwords')\n",
    "nltk.download('wordnet')"
   ]
  },
  {
   "cell_type": "code",
   "execution_count": 20,
   "metadata": {},
   "outputs": [],
   "source": [
    "def tokenize_text(text):\n",
    "    tokens = word_tokenize(text)  \n",
    "    return tokens  \n",
    "df['Tokens'] = df['Clean_text'].apply(tokenize_text)"
   ]
  },
  {
   "cell_type": "code",
   "execution_count": 21,
   "metadata": {},
   "outputs": [],
   "source": [
    "custom_stopwords = {'app', 'music','play', 'spotify', 'song', 'songs', 'listen', 'playing','get', 'playlist'}"
   ]
  },
  {
   "cell_type": "code",
   "execution_count": 22,
   "metadata": {},
   "outputs": [],
   "source": [
    "def remove_stopwords(tokens):\n",
    "    stop_words = set(stopwords.words('english'))  # Get the set of English stopwords\n",
    "    if custom_stopwords:\n",
    "        stop_words.update(custom_stopwords)\n",
    "    return [word for word in tokens if word.lower() not in stop_words]  # Filter out stopwords"
   ]
  },
  {
   "cell_type": "markdown",
   "metadata": {},
   "source": [
    "### เลือก Custom Stopwords"
   ]
  },
  {
   "cell_type": "code",
   "execution_count": 23,
   "metadata": {},
   "outputs": [],
   "source": [
    "custom_stopwords = {'app', 'music','play', 'spotify', 'song', 'songs', 'listen', 'playing','get', 'playlist'}"
   ]
  },
  {
   "cell_type": "code",
   "execution_count": 24,
   "metadata": {},
   "outputs": [],
   "source": [
    "df['Filtered_Tokens'] = df['Tokens'].apply(remove_stopwords)"
   ]
  },
  {
   "cell_type": "markdown",
   "metadata": {},
   "source": [
    "วนลบ Stop Words โดยใช้ Counter"
   ]
  },
  {
   "cell_type": "code",
   "execution_count": 25,
   "metadata": {},
   "outputs": [
    {
     "name": "stdout",
     "output_type": "stream",
     "text": [
      "[('like', 7991), ('good', 7803), ('love', 7758), ('premium', 7003), ('ads', 6743), ('great', 6206), ('even', 5382), ('want', 4948), ('use', 4802), ('update', 4453), ('best', 4291), ('really', 4006), ('one', 3845), ('please', 3797), ('time', 3773), ('fix', 3761), ('every', 3650), ('listening', 3185), ('phone', 3123), ('would', 3063)]\n"
     ]
    }
   ],
   "source": [
    "from collections import Counter \n",
    "all_filtered_tokens = [word for tokens in df['Filtered_Tokens'] for word in tokens]\n",
    "\n",
    "word_counts_after_removal = Counter(all_filtered_tokens)\n",
    "most_common_words_after_removal = word_counts_after_removal.most_common(20)\n",
    "\n",
    "print(most_common_words_after_removal)\n"
   ]
  },
  {
   "cell_type": "markdown",
   "metadata": {},
   "source": [
    "# แก้ LEMMATIZATION พวก V-ing "
   ]
  },
  {
   "cell_type": "code",
   "execution_count": 26,
   "metadata": {},
   "outputs": [],
   "source": [
    "from nltk.stem import WordNetLemmatizer\n",
    "lemmatizer = WordNetLemmatizer()"
   ]
  },
  {
   "cell_type": "code",
   "execution_count": 27,
   "metadata": {},
   "outputs": [],
   "source": [
    "def lemmatize_tokens(tokens):\n",
    "    return [lemmatizer.lemmatize(word, pos='v') for word in tokens]\n",
    "#pos is set to v (verb) for better accuracy. v เพื่อจาก running -> run , a เพื่อจาก better -> good"
   ]
  },
  {
   "cell_type": "code",
   "execution_count": 28,
   "metadata": {},
   "outputs": [],
   "source": [
    "df['Lemmatized_Tokens'] = df['Filtered_Tokens'].apply(lemmatize_tokens)"
   ]
  },
  {
   "cell_type": "code",
   "execution_count": 29,
   "metadata": {},
   "outputs": [
    {
     "data": {
      "text/html": [
       "<div>\n",
       "<style scoped>\n",
       "    .dataframe tbody tr th:only-of-type {\n",
       "        vertical-align: middle;\n",
       "    }\n",
       "\n",
       "    .dataframe tbody tr th {\n",
       "        vertical-align: top;\n",
       "    }\n",
       "\n",
       "    .dataframe thead th {\n",
       "        text-align: right;\n",
       "    }\n",
       "</style>\n",
       "<table border=\"1\" class=\"dataframe\">\n",
       "  <thead>\n",
       "    <tr style=\"text-align: right;\">\n",
       "      <th></th>\n",
       "      <th>Review</th>\n",
       "      <th>label</th>\n",
       "      <th>Clean_text</th>\n",
       "      <th>Tokens</th>\n",
       "      <th>Filtered_Tokens</th>\n",
       "      <th>Lemmatized_Tokens</th>\n",
       "    </tr>\n",
       "  </thead>\n",
       "  <tbody>\n",
       "    <tr>\n",
       "      <th>0</th>\n",
       "      <td>Great music service, the audio is high quality and the app is easy to use. Also very quick and friendly support.</td>\n",
       "      <td>POSITIVE</td>\n",
       "      <td>great music service the audio is high quality and the app is easy to use also very quick and friendly support</td>\n",
       "      <td>[great, music, service, the, audio, is, high, quality, and, the, app, is, easy, to, use, also, very, quick, and, friendly, support]</td>\n",
       "      <td>[great, service, audio, high, quality, easy, use, also, quick, friendly, support]</td>\n",
       "      <td>[great, service, audio, high, quality, easy, use, also, quick, friendly, support]</td>\n",
       "    </tr>\n",
       "    <tr>\n",
       "      <th>1</th>\n",
       "      <td>Please ignore previous negative rating. This app is super great. I give it five stars+</td>\n",
       "      <td>POSITIVE</td>\n",
       "      <td>please ignore previous negative rating this app is super great i give it five stars</td>\n",
       "      <td>[please, ignore, previous, negative, rating, this, app, is, super, great, i, give, it, five, stars]</td>\n",
       "      <td>[please, ignore, previous, negative, rating, super, great, give, five, stars]</td>\n",
       "      <td>[please, ignore, previous, negative, rat, super, great, give, five, star]</td>\n",
       "    </tr>\n",
       "    <tr>\n",
       "      <th>2</th>\n",
       "      <td>This pop-up \"Get the best Spotify experience on Android 12\" is too annoying. Please let's get rid of this.</td>\n",
       "      <td>NEGATIVE</td>\n",
       "      <td>this pop up get the best spotify experience on android is too annoying please let s get rid of this</td>\n",
       "      <td>[this, pop, up, get, the, best, spotify, experience, on, android, is, too, annoying, please, let, s, get, rid, of, this]</td>\n",
       "      <td>[pop, best, experience, android, annoying, please, let, rid]</td>\n",
       "      <td>[pop, best, experience, android, annoy, please, let, rid]</td>\n",
       "    </tr>\n",
       "    <tr>\n",
       "      <th>3</th>\n",
       "      <td>Really buggy and terrible to use as of recently</td>\n",
       "      <td>NEGATIVE</td>\n",
       "      <td>really buggy and terrible to use as of recently</td>\n",
       "      <td>[really, buggy, and, terrible, to, use, as, of, recently]</td>\n",
       "      <td>[really, buggy, terrible, use, recently]</td>\n",
       "      <td>[really, buggy, terrible, use, recently]</td>\n",
       "    </tr>\n",
       "    <tr>\n",
       "      <th>4</th>\n",
       "      <td>Dear Spotify why do I get songs that I didn't put on my playlist??? And why do we have shuffle play?</td>\n",
       "      <td>NEGATIVE</td>\n",
       "      <td>dear spotify why do i get songs that i didn t put on my playlist and why do we have shuffle play</td>\n",
       "      <td>[dear, spotify, why, do, i, get, songs, that, i, didn, t, put, on, my, playlist, and, why, do, we, have, shuffle, play]</td>\n",
       "      <td>[dear, put, shuffle]</td>\n",
       "      <td>[dear, put, shuffle]</td>\n",
       "    </tr>\n",
       "    <tr>\n",
       "      <th>5</th>\n",
       "      <td>The player controls sometimes disappear for no reason. App restart forgets what I was playing but fixes the issue.</td>\n",
       "      <td>NEGATIVE</td>\n",
       "      <td>the player controls sometimes disappear for no reason app restart forgets what i was playing but fixes the issue</td>\n",
       "      <td>[the, player, controls, sometimes, disappear, for, no, reason, app, restart, forgets, what, i, was, playing, but, fixes, the, issue]</td>\n",
       "      <td>[player, controls, sometimes, disappear, reason, restart, forgets, fixes, issue]</td>\n",
       "      <td>[player, control, sometimes, disappear, reason, restart, forget, fix, issue]</td>\n",
       "    </tr>\n",
       "    <tr>\n",
       "      <th>6</th>\n",
       "      <td>I love the selection and the lyrics are provided with the song you're listening to!</td>\n",
       "      <td>POSITIVE</td>\n",
       "      <td>i love the selection and the lyrics are provided with the song you re listening to</td>\n",
       "      <td>[i, love, the, selection, and, the, lyrics, are, provided, with, the, song, you, re, listening, to]</td>\n",
       "      <td>[love, selection, lyrics, provided, listening]</td>\n",
       "      <td>[love, selection, lyric, provide, listen]</td>\n",
       "    </tr>\n",
       "    <tr>\n",
       "      <th>7</th>\n",
       "      <td>Still extremely slow when changing storage to external sd card.. I'm convinced this is done on purpose, spotify knows of this issue and has done NOTHING to solve it! Over time I have changed sd cards, each being faster in read, write speeds(all samsung brand). And please add \"don't like song\" so it will never appear again in my searches or playlists.</td>\n",
       "      <td>NEGATIVE</td>\n",
       "      <td>still extremely slow when changing storage to external sd card i m convinced this is done on purpose spotify knows of this issue and has done nothing to solve it over time i have changed sd cards each being faster in read write speeds all samsung brand and please add don t like song so it will never appear again in my searches or playlists</td>\n",
       "      <td>[still, extremely, slow, when, changing, storage, to, external, sd, card, i, m, convinced, this, is, done, on, purpose, spotify, knows, of, this, issue, and, has, done, nothing, to, solve, it, over, time, i, have, changed, sd, cards, each, being, faster, in, read, write, speeds, all, samsung, brand, and, please, add, don, t, like, song, so, it, will, never, appear, again, in, my, searches, or, playlists]</td>\n",
       "      <td>[still, extremely, slow, changing, storage, external, sd, card, convinced, done, purpose, knows, issue, done, nothing, solve, time, changed, sd, cards, faster, read, write, speeds, samsung, brand, please, add, like, never, appear, searches, playlists]</td>\n",
       "      <td>[still, extremely, slow, change, storage, external, sd, card, convince, do, purpose, know, issue, do, nothing, solve, time, change, sd, card, faster, read, write, speed, samsung, brand, please, add, like, never, appear, search, playlists]</td>\n",
       "    </tr>\n",
       "    <tr>\n",
       "      <th>8</th>\n",
       "      <td>It's a great app and the best mp3 music app I have ever used but there is one problem that, why can't we play some songs or find some songs? despite this the app is wonderful I recommend it. it's just the best.</td>\n",
       "      <td>POSITIVE</td>\n",
       "      <td>it s a great app and the best mp music app i have ever used but there is one problem that why can t we play some songs or find some songs despite this the app is wonderful i recommend it it s just the best</td>\n",
       "      <td>[it, s, a, great, app, and, the, best, mp, music, app, i, have, ever, used, but, there, is, one, problem, that, why, can, t, we, play, some, songs, or, find, some, songs, despite, this, the, app, is, wonderful, i, recommend, it, it, s, just, the, best]</td>\n",
       "      <td>[great, best, mp, ever, used, one, problem, find, despite, wonderful, recommend, best]</td>\n",
       "      <td>[great, best, mp, ever, use, one, problem, find, despite, wonderful, recommend, best]</td>\n",
       "    </tr>\n",
       "    <tr>\n",
       "      <th>9</th>\n",
       "      <td>I'm deleting this app, for the following reasons: This app now has a failing business model. Whether streaming services like it, or not: the consumer doesn't want to pay for music they can't fully own, and 6 ads successively, upon logging in, before a single song, is too much. Closed the app during ad number 6, and I'm more patient than most. If those are the only ways you can profit: you've already peaked. All that's left is your decline.</td>\n",
       "      <td>NEGATIVE</td>\n",
       "      <td>i m deleting this app for the following reasons this app now has a failing business model whether streaming services like it or not the consumer doesn t want to pay for music they can t fully own and ads successively upon logging in before a single song is too much closed the app during ad number and i m more patient than most if those are the only ways you can profit you ve already peaked all that s left is your decline</td>\n",
       "      <td>[i, m, deleting, this, app, for, the, following, reasons, this, app, now, has, a, failing, business, model, whether, streaming, services, like, it, or, not, the, consumer, doesn, t, want, to, pay, for, music, they, can, t, fully, own, and, ads, successively, upon, logging, in, before, a, single, song, is, too, much, closed, the, app, during, ad, number, and, i, m, more, patient, than, most, if, those, are, the, only, ways, you, can, profit, you, ve, already, peaked, all, that, s, left, is, your, decline]</td>\n",
       "      <td>[deleting, following, reasons, failing, business, model, whether, streaming, services, like, consumer, want, pay, fully, ads, successively, upon, logging, single, much, closed, ad, number, patient, ways, profit, already, peaked, left, decline]</td>\n",
       "      <td>[delete, follow, reason, fail, business, model, whether, stream, service, like, consumer, want, pay, fully, ads, successively, upon, log, single, much, close, ad, number, patient, ways, profit, already, peak, leave, decline]</td>\n",
       "    </tr>\n",
       "  </tbody>\n",
       "</table>\n",
       "</div>"
      ],
      "text/plain": [
       "                                                                                                                                                                                                                                                                                                                                                                                                                                                        Review  \\\n",
       "0                                                                                                                                                                                                                                                                                                                                             Great music service, the audio is high quality and the app is easy to use. Also very quick and friendly support.   \n",
       "1                                                                                                                                                                                                                                                                                                                                                                       Please ignore previous negative rating. This app is super great. I give it five stars+   \n",
       "2                                                                                                                                                                                                                                                                                                                                                   This pop-up \"Get the best Spotify experience on Android 12\" is too annoying. Please let's get rid of this.   \n",
       "3                                                                                                                                                                                                                                                                                                                                                                                                              Really buggy and terrible to use as of recently   \n",
       "4                                                                                                                                                                                                                                                                                                                                                         Dear Spotify why do I get songs that I didn't put on my playlist??? And why do we have shuffle play?   \n",
       "5                                                                                                                                                                                                                                                                                                                                           The player controls sometimes disappear for no reason. App restart forgets what I was playing but fixes the issue.   \n",
       "6                                                                                                                                                                                                                                                                                                                                                                          I love the selection and the lyrics are provided with the song you're listening to!   \n",
       "7                                                                                             Still extremely slow when changing storage to external sd card.. I'm convinced this is done on purpose, spotify knows of this issue and has done NOTHING to solve it! Over time I have changed sd cards, each being faster in read, write speeds(all samsung brand). And please add \"don't like song\" so it will never appear again in my searches or playlists.   \n",
       "8                                                                                                                                                                                                                                           It's a great app and the best mp3 music app I have ever used but there is one problem that, why can't we play some songs or find some songs? despite this the app is wonderful I recommend it. it's just the best.   \n",
       "9  I'm deleting this app, for the following reasons: This app now has a failing business model. Whether streaming services like it, or not: the consumer doesn't want to pay for music they can't fully own, and 6 ads successively, upon logging in, before a single song, is too much. Closed the app during ad number 6, and I'm more patient than most. If those are the only ways you can profit: you've already peaked. All that's left is your decline.   \n",
       "\n",
       "      label  \\\n",
       "0  POSITIVE   \n",
       "1  POSITIVE   \n",
       "2  NEGATIVE   \n",
       "3  NEGATIVE   \n",
       "4  NEGATIVE   \n",
       "5  NEGATIVE   \n",
       "6  POSITIVE   \n",
       "7  NEGATIVE   \n",
       "8  POSITIVE   \n",
       "9  NEGATIVE   \n",
       "\n",
       "                                                                                                                                                                                                                                                                                                                                                                                                                                 Clean_text  \\\n",
       "0                                                                                                                                                                                                                                                                                                                             great music service the audio is high quality and the app is easy to use also very quick and friendly support   \n",
       "1                                                                                                                                                                                                                                                                                                                                                       please ignore previous negative rating this app is super great i give it five stars   \n",
       "2                                                                                                                                                                                                                                                                                                                                       this pop up get the best spotify experience on android is too annoying please let s get rid of this   \n",
       "3                                                                                                                                                                                                                                                                                                                                                                                           really buggy and terrible to use as of recently   \n",
       "4                                                                                                                                                                                                                                                                                                                                          dear spotify why do i get songs that i didn t put on my playlist and why do we have shuffle play   \n",
       "5                                                                                                                                                                                                                                                                                                                          the player controls sometimes disappear for no reason app restart forgets what i was playing but fixes the issue   \n",
       "6                                                                                                                                                                                                                                                                                                                                                        i love the selection and the lyrics are provided with the song you re listening to   \n",
       "7                                                                                     still extremely slow when changing storage to external sd card i m convinced this is done on purpose spotify knows of this issue and has done nothing to solve it over time i have changed sd cards each being faster in read write speeds all samsung brand and please add don t like song so it will never appear again in my searches or playlists   \n",
       "8                                                                                                                                                                                                                             it s a great app and the best mp music app i have ever used but there is one problem that why can t we play some songs or find some songs despite this the app is wonderful i recommend it it s just the best   \n",
       "9  i m deleting this app for the following reasons this app now has a failing business model whether streaming services like it or not the consumer doesn t want to pay for music they can t fully own and ads successively upon logging in before a single song is too much closed the app during ad number and i m more patient than most if those are the only ways you can profit you ve already peaked all that s left is your decline   \n",
       "\n",
       "                                                                                                                                                                                                                                                                                                                                                                                                                                                                                                                          Tokens  \\\n",
       "0                                                                                                                                                                                                                                                                                                                                                                                            [great, music, service, the, audio, is, high, quality, and, the, app, is, easy, to, use, also, very, quick, and, friendly, support]   \n",
       "1                                                                                                                                                                                                                                                                                                                                                                                                                            [please, ignore, previous, negative, rating, this, app, is, super, great, i, give, it, five, stars]   \n",
       "2                                                                                                                                                                                                                                                                                                                                                                                                       [this, pop, up, get, the, best, spotify, experience, on, android, is, too, annoying, please, let, s, get, rid, of, this]   \n",
       "3                                                                                                                                                                                                                                                                                                                                                                                                                                                                      [really, buggy, and, terrible, to, use, as, of, recently]   \n",
       "4                                                                                                                                                                                                                                                                                                                                                                                                        [dear, spotify, why, do, i, get, songs, that, i, didn, t, put, on, my, playlist, and, why, do, we, have, shuffle, play]   \n",
       "5                                                                                                                                                                                                                                                                                                                                                                                           [the, player, controls, sometimes, disappear, for, no, reason, app, restart, forgets, what, i, was, playing, but, fixes, the, issue]   \n",
       "6                                                                                                                                                                                                                                                                                                                                                                                                                            [i, love, the, selection, and, the, lyrics, are, provided, with, the, song, you, re, listening, to]   \n",
       "7                                                                                                        [still, extremely, slow, when, changing, storage, to, external, sd, card, i, m, convinced, this, is, done, on, purpose, spotify, knows, of, this, issue, and, has, done, nothing, to, solve, it, over, time, i, have, changed, sd, cards, each, being, faster, in, read, write, speeds, all, samsung, brand, and, please, add, don, t, like, song, so, it, will, never, appear, again, in, my, searches, or, playlists]   \n",
       "8                                                                                                                                                                                                                                                                   [it, s, a, great, app, and, the, best, mp, music, app, i, have, ever, used, but, there, is, one, problem, that, why, can, t, we, play, some, songs, or, find, some, songs, despite, this, the, app, is, wonderful, i, recommend, it, it, s, just, the, best]   \n",
       "9  [i, m, deleting, this, app, for, the, following, reasons, this, app, now, has, a, failing, business, model, whether, streaming, services, like, it, or, not, the, consumer, doesn, t, want, to, pay, for, music, they, can, t, fully, own, and, ads, successively, upon, logging, in, before, a, single, song, is, too, much, closed, the, app, during, ad, number, and, i, m, more, patient, than, most, if, those, are, the, only, ways, you, can, profit, you, ve, already, peaked, all, that, s, left, is, your, decline]   \n",
       "\n",
       "                                                                                                                                                                                                                                               Filtered_Tokens  \\\n",
       "0                                                                                                                                                                            [great, service, audio, high, quality, easy, use, also, quick, friendly, support]   \n",
       "1                                                                                                                                                                                [please, ignore, previous, negative, rating, super, great, give, five, stars]   \n",
       "2                                                                                                                                                                                                 [pop, best, experience, android, annoying, please, let, rid]   \n",
       "3                                                                                                                                                                                                                     [really, buggy, terrible, use, recently]   \n",
       "4                                                                                                                                                                                                                                         [dear, put, shuffle]   \n",
       "5                                                                                                                                                                             [player, controls, sometimes, disappear, reason, restart, forgets, fixes, issue]   \n",
       "6                                                                                                                                                                                                               [love, selection, lyrics, provided, listening]   \n",
       "7  [still, extremely, slow, changing, storage, external, sd, card, convinced, done, purpose, knows, issue, done, nothing, solve, time, changed, sd, cards, faster, read, write, speeds, samsung, brand, please, add, like, never, appear, searches, playlists]   \n",
       "8                                                                                                                                                                       [great, best, mp, ever, used, one, problem, find, despite, wonderful, recommend, best]   \n",
       "9          [deleting, following, reasons, failing, business, model, whether, streaming, services, like, consumer, want, pay, fully, ads, successively, upon, logging, single, much, closed, ad, number, patient, ways, profit, already, peaked, left, decline]   \n",
       "\n",
       "                                                                                                                                                                                                                                Lemmatized_Tokens  \n",
       "0                                                                                                                                                               [great, service, audio, high, quality, easy, use, also, quick, friendly, support]  \n",
       "1                                                                                                                                                                       [please, ignore, previous, negative, rat, super, great, give, five, star]  \n",
       "2                                                                                                                                                                                       [pop, best, experience, android, annoy, please, let, rid]  \n",
       "3                                                                                                                                                                                                        [really, buggy, terrible, use, recently]  \n",
       "4                                                                                                                                                                                                                            [dear, put, shuffle]  \n",
       "5                                                                                                                                                                    [player, control, sometimes, disappear, reason, restart, forget, fix, issue]  \n",
       "6                                                                                                                                                                                                       [love, selection, lyric, provide, listen]  \n",
       "7  [still, extremely, slow, change, storage, external, sd, card, convince, do, purpose, know, issue, do, nothing, solve, time, change, sd, card, faster, read, write, speed, samsung, brand, please, add, like, never, appear, search, playlists]  \n",
       "8                                                                                                                                                           [great, best, mp, ever, use, one, problem, find, despite, wonderful, recommend, best]  \n",
       "9                [delete, follow, reason, fail, business, model, whether, stream, service, like, consumer, want, pay, fully, ads, successively, upon, log, single, much, close, ad, number, patient, ways, profit, already, peak, leave, decline]  "
      ]
     },
     "execution_count": 29,
     "metadata": {},
     "output_type": "execute_result"
    }
   ],
   "source": [
    "df.head(10)"
   ]
  },
  {
   "cell_type": "markdown",
   "metadata": {},
   "source": [
    "# ใช้ sklearn text ทำ Tfidf_matrix และ Feature_names"
   ]
  },
  {
   "cell_type": "code",
   "execution_count": 30,
   "metadata": {},
   "outputs": [],
   "source": [
    "from sklearn.feature_extraction.text import TfidfVectorizer\n",
    "\n",
    "def apply_tfidf(df):\n",
    "    df['TFIDF_Tokens'] = df['Lemmatized_Tokens'].apply(lambda x: ' '.join(x))\n",
    "    tfidf_vectorizer = TfidfVectorizer(stop_words='english', max_features=10000)\n",
    "    tfidf_matrix = tfidf_vectorizer.fit_transform(df['TFIDF_Tokens'])\n",
    "    feature_names = tfidf_vectorizer.get_feature_names_out()\n",
    "    return tfidf_matrix, feature_names\n"
   ]
  },
  {
   "cell_type": "code",
   "execution_count": 31,
   "metadata": {},
   "outputs": [
    {
     "data": {
      "text/html": [
       "<div>\n",
       "<style scoped>\n",
       "    .dataframe tbody tr th:only-of-type {\n",
       "        vertical-align: middle;\n",
       "    }\n",
       "\n",
       "    .dataframe tbody tr th {\n",
       "        vertical-align: top;\n",
       "    }\n",
       "\n",
       "    .dataframe thead th {\n",
       "        text-align: right;\n",
       "    }\n",
       "</style>\n",
       "<table border=\"1\" class=\"dataframe\">\n",
       "  <thead>\n",
       "    <tr style=\"text-align: right;\">\n",
       "      <th></th>\n",
       "      <th>Review</th>\n",
       "      <th>label</th>\n",
       "      <th>Clean_text</th>\n",
       "      <th>Tokens</th>\n",
       "      <th>Filtered_Tokens</th>\n",
       "      <th>Lemmatized_Tokens</th>\n",
       "      <th>TFIDF_Tokens</th>\n",
       "    </tr>\n",
       "  </thead>\n",
       "  <tbody>\n",
       "    <tr>\n",
       "      <th>0</th>\n",
       "      <td>Great music service, the audio is high quality and the app is easy to use. Also very quick and friendly support.</td>\n",
       "      <td>POSITIVE</td>\n",
       "      <td>great music service the audio is high quality and the app is easy to use also very quick and friendly support</td>\n",
       "      <td>[great, music, service, the, audio, is, high, quality, and, the, app, is, easy, to, use, also, very, quick, and, friendly, support]</td>\n",
       "      <td>[great, service, audio, high, quality, easy, use, also, quick, friendly, support]</td>\n",
       "      <td>[great, service, audio, high, quality, easy, use, also, quick, friendly, support]</td>\n",
       "      <td>great service audio high quality easy use also quick friendly support</td>\n",
       "    </tr>\n",
       "    <tr>\n",
       "      <th>1</th>\n",
       "      <td>Please ignore previous negative rating. This app is super great. I give it five stars+</td>\n",
       "      <td>POSITIVE</td>\n",
       "      <td>please ignore previous negative rating this app is super great i give it five stars</td>\n",
       "      <td>[please, ignore, previous, negative, rating, this, app, is, super, great, i, give, it, five, stars]</td>\n",
       "      <td>[please, ignore, previous, negative, rating, super, great, give, five, stars]</td>\n",
       "      <td>[please, ignore, previous, negative, rat, super, great, give, five, star]</td>\n",
       "      <td>please ignore previous negative rat super great give five star</td>\n",
       "    </tr>\n",
       "    <tr>\n",
       "      <th>2</th>\n",
       "      <td>This pop-up \"Get the best Spotify experience on Android 12\" is too annoying. Please let's get rid of this.</td>\n",
       "      <td>NEGATIVE</td>\n",
       "      <td>this pop up get the best spotify experience on android is too annoying please let s get rid of this</td>\n",
       "      <td>[this, pop, up, get, the, best, spotify, experience, on, android, is, too, annoying, please, let, s, get, rid, of, this]</td>\n",
       "      <td>[pop, best, experience, android, annoying, please, let, rid]</td>\n",
       "      <td>[pop, best, experience, android, annoy, please, let, rid]</td>\n",
       "      <td>pop best experience android annoy please let rid</td>\n",
       "    </tr>\n",
       "    <tr>\n",
       "      <th>3</th>\n",
       "      <td>Really buggy and terrible to use as of recently</td>\n",
       "      <td>NEGATIVE</td>\n",
       "      <td>really buggy and terrible to use as of recently</td>\n",
       "      <td>[really, buggy, and, terrible, to, use, as, of, recently]</td>\n",
       "      <td>[really, buggy, terrible, use, recently]</td>\n",
       "      <td>[really, buggy, terrible, use, recently]</td>\n",
       "      <td>really buggy terrible use recently</td>\n",
       "    </tr>\n",
       "    <tr>\n",
       "      <th>4</th>\n",
       "      <td>Dear Spotify why do I get songs that I didn't put on my playlist??? And why do we have shuffle play?</td>\n",
       "      <td>NEGATIVE</td>\n",
       "      <td>dear spotify why do i get songs that i didn t put on my playlist and why do we have shuffle play</td>\n",
       "      <td>[dear, spotify, why, do, i, get, songs, that, i, didn, t, put, on, my, playlist, and, why, do, we, have, shuffle, play]</td>\n",
       "      <td>[dear, put, shuffle]</td>\n",
       "      <td>[dear, put, shuffle]</td>\n",
       "      <td>dear put shuffle</td>\n",
       "    </tr>\n",
       "    <tr>\n",
       "      <th>5</th>\n",
       "      <td>The player controls sometimes disappear for no reason. App restart forgets what I was playing but fixes the issue.</td>\n",
       "      <td>NEGATIVE</td>\n",
       "      <td>the player controls sometimes disappear for no reason app restart forgets what i was playing but fixes the issue</td>\n",
       "      <td>[the, player, controls, sometimes, disappear, for, no, reason, app, restart, forgets, what, i, was, playing, but, fixes, the, issue]</td>\n",
       "      <td>[player, controls, sometimes, disappear, reason, restart, forgets, fixes, issue]</td>\n",
       "      <td>[player, control, sometimes, disappear, reason, restart, forget, fix, issue]</td>\n",
       "      <td>player control sometimes disappear reason restart forget fix issue</td>\n",
       "    </tr>\n",
       "    <tr>\n",
       "      <th>6</th>\n",
       "      <td>I love the selection and the lyrics are provided with the song you're listening to!</td>\n",
       "      <td>POSITIVE</td>\n",
       "      <td>i love the selection and the lyrics are provided with the song you re listening to</td>\n",
       "      <td>[i, love, the, selection, and, the, lyrics, are, provided, with, the, song, you, re, listening, to]</td>\n",
       "      <td>[love, selection, lyrics, provided, listening]</td>\n",
       "      <td>[love, selection, lyric, provide, listen]</td>\n",
       "      <td>love selection lyric provide listen</td>\n",
       "    </tr>\n",
       "    <tr>\n",
       "      <th>7</th>\n",
       "      <td>Still extremely slow when changing storage to external sd card.. I'm convinced this is done on purpose, spotify knows of this issue and has done NOTHING to solve it! Over time I have changed sd cards, each being faster in read, write speeds(all samsung brand). And please add \"don't like song\" so it will never appear again in my searches or playlists.</td>\n",
       "      <td>NEGATIVE</td>\n",
       "      <td>still extremely slow when changing storage to external sd card i m convinced this is done on purpose spotify knows of this issue and has done nothing to solve it over time i have changed sd cards each being faster in read write speeds all samsung brand and please add don t like song so it will never appear again in my searches or playlists</td>\n",
       "      <td>[still, extremely, slow, when, changing, storage, to, external, sd, card, i, m, convinced, this, is, done, on, purpose, spotify, knows, of, this, issue, and, has, done, nothing, to, solve, it, over, time, i, have, changed, sd, cards, each, being, faster, in, read, write, speeds, all, samsung, brand, and, please, add, don, t, like, song, so, it, will, never, appear, again, in, my, searches, or, playlists]</td>\n",
       "      <td>[still, extremely, slow, changing, storage, external, sd, card, convinced, done, purpose, knows, issue, done, nothing, solve, time, changed, sd, cards, faster, read, write, speeds, samsung, brand, please, add, like, never, appear, searches, playlists]</td>\n",
       "      <td>[still, extremely, slow, change, storage, external, sd, card, convince, do, purpose, know, issue, do, nothing, solve, time, change, sd, card, faster, read, write, speed, samsung, brand, please, add, like, never, appear, search, playlists]</td>\n",
       "      <td>still extremely slow change storage external sd card convince do purpose know issue do nothing solve time change sd card faster read write speed samsung brand please add like never appear search playlists</td>\n",
       "    </tr>\n",
       "    <tr>\n",
       "      <th>8</th>\n",
       "      <td>It's a great app and the best mp3 music app I have ever used but there is one problem that, why can't we play some songs or find some songs? despite this the app is wonderful I recommend it. it's just the best.</td>\n",
       "      <td>POSITIVE</td>\n",
       "      <td>it s a great app and the best mp music app i have ever used but there is one problem that why can t we play some songs or find some songs despite this the app is wonderful i recommend it it s just the best</td>\n",
       "      <td>[it, s, a, great, app, and, the, best, mp, music, app, i, have, ever, used, but, there, is, one, problem, that, why, can, t, we, play, some, songs, or, find, some, songs, despite, this, the, app, is, wonderful, i, recommend, it, it, s, just, the, best]</td>\n",
       "      <td>[great, best, mp, ever, used, one, problem, find, despite, wonderful, recommend, best]</td>\n",
       "      <td>[great, best, mp, ever, use, one, problem, find, despite, wonderful, recommend, best]</td>\n",
       "      <td>great best mp ever use one problem find despite wonderful recommend best</td>\n",
       "    </tr>\n",
       "    <tr>\n",
       "      <th>9</th>\n",
       "      <td>I'm deleting this app, for the following reasons: This app now has a failing business model. Whether streaming services like it, or not: the consumer doesn't want to pay for music they can't fully own, and 6 ads successively, upon logging in, before a single song, is too much. Closed the app during ad number 6, and I'm more patient than most. If those are the only ways you can profit: you've already peaked. All that's left is your decline.</td>\n",
       "      <td>NEGATIVE</td>\n",
       "      <td>i m deleting this app for the following reasons this app now has a failing business model whether streaming services like it or not the consumer doesn t want to pay for music they can t fully own and ads successively upon logging in before a single song is too much closed the app during ad number and i m more patient than most if those are the only ways you can profit you ve already peaked all that s left is your decline</td>\n",
       "      <td>[i, m, deleting, this, app, for, the, following, reasons, this, app, now, has, a, failing, business, model, whether, streaming, services, like, it, or, not, the, consumer, doesn, t, want, to, pay, for, music, they, can, t, fully, own, and, ads, successively, upon, logging, in, before, a, single, song, is, too, much, closed, the, app, during, ad, number, and, i, m, more, patient, than, most, if, those, are, the, only, ways, you, can, profit, you, ve, already, peaked, all, that, s, left, is, your, decline]</td>\n",
       "      <td>[deleting, following, reasons, failing, business, model, whether, streaming, services, like, consumer, want, pay, fully, ads, successively, upon, logging, single, much, closed, ad, number, patient, ways, profit, already, peaked, left, decline]</td>\n",
       "      <td>[delete, follow, reason, fail, business, model, whether, stream, service, like, consumer, want, pay, fully, ads, successively, upon, log, single, much, close, ad, number, patient, ways, profit, already, peak, leave, decline]</td>\n",
       "      <td>delete follow reason fail business model whether stream service like consumer want pay fully ads successively upon log single much close ad number patient ways profit already peak leave decline</td>\n",
       "    </tr>\n",
       "  </tbody>\n",
       "</table>\n",
       "</div>"
      ],
      "text/plain": [
       "                                                                                                                                                                                                                                                                                                                                                                                                                                                        Review  \\\n",
       "0                                                                                                                                                                                                                                                                                                                                             Great music service, the audio is high quality and the app is easy to use. Also very quick and friendly support.   \n",
       "1                                                                                                                                                                                                                                                                                                                                                                       Please ignore previous negative rating. This app is super great. I give it five stars+   \n",
       "2                                                                                                                                                                                                                                                                                                                                                   This pop-up \"Get the best Spotify experience on Android 12\" is too annoying. Please let's get rid of this.   \n",
       "3                                                                                                                                                                                                                                                                                                                                                                                                              Really buggy and terrible to use as of recently   \n",
       "4                                                                                                                                                                                                                                                                                                                                                         Dear Spotify why do I get songs that I didn't put on my playlist??? And why do we have shuffle play?   \n",
       "5                                                                                                                                                                                                                                                                                                                                           The player controls sometimes disappear for no reason. App restart forgets what I was playing but fixes the issue.   \n",
       "6                                                                                                                                                                                                                                                                                                                                                                          I love the selection and the lyrics are provided with the song you're listening to!   \n",
       "7                                                                                             Still extremely slow when changing storage to external sd card.. I'm convinced this is done on purpose, spotify knows of this issue and has done NOTHING to solve it! Over time I have changed sd cards, each being faster in read, write speeds(all samsung brand). And please add \"don't like song\" so it will never appear again in my searches or playlists.   \n",
       "8                                                                                                                                                                                                                                           It's a great app and the best mp3 music app I have ever used but there is one problem that, why can't we play some songs or find some songs? despite this the app is wonderful I recommend it. it's just the best.   \n",
       "9  I'm deleting this app, for the following reasons: This app now has a failing business model. Whether streaming services like it, or not: the consumer doesn't want to pay for music they can't fully own, and 6 ads successively, upon logging in, before a single song, is too much. Closed the app during ad number 6, and I'm more patient than most. If those are the only ways you can profit: you've already peaked. All that's left is your decline.   \n",
       "\n",
       "      label  \\\n",
       "0  POSITIVE   \n",
       "1  POSITIVE   \n",
       "2  NEGATIVE   \n",
       "3  NEGATIVE   \n",
       "4  NEGATIVE   \n",
       "5  NEGATIVE   \n",
       "6  POSITIVE   \n",
       "7  NEGATIVE   \n",
       "8  POSITIVE   \n",
       "9  NEGATIVE   \n",
       "\n",
       "                                                                                                                                                                                                                                                                                                                                                                                                                                 Clean_text  \\\n",
       "0                                                                                                                                                                                                                                                                                                                             great music service the audio is high quality and the app is easy to use also very quick and friendly support   \n",
       "1                                                                                                                                                                                                                                                                                                                                                       please ignore previous negative rating this app is super great i give it five stars   \n",
       "2                                                                                                                                                                                                                                                                                                                                       this pop up get the best spotify experience on android is too annoying please let s get rid of this   \n",
       "3                                                                                                                                                                                                                                                                                                                                                                                           really buggy and terrible to use as of recently   \n",
       "4                                                                                                                                                                                                                                                                                                                                          dear spotify why do i get songs that i didn t put on my playlist and why do we have shuffle play   \n",
       "5                                                                                                                                                                                                                                                                                                                          the player controls sometimes disappear for no reason app restart forgets what i was playing but fixes the issue   \n",
       "6                                                                                                                                                                                                                                                                                                                                                        i love the selection and the lyrics are provided with the song you re listening to   \n",
       "7                                                                                     still extremely slow when changing storage to external sd card i m convinced this is done on purpose spotify knows of this issue and has done nothing to solve it over time i have changed sd cards each being faster in read write speeds all samsung brand and please add don t like song so it will never appear again in my searches or playlists   \n",
       "8                                                                                                                                                                                                                             it s a great app and the best mp music app i have ever used but there is one problem that why can t we play some songs or find some songs despite this the app is wonderful i recommend it it s just the best   \n",
       "9  i m deleting this app for the following reasons this app now has a failing business model whether streaming services like it or not the consumer doesn t want to pay for music they can t fully own and ads successively upon logging in before a single song is too much closed the app during ad number and i m more patient than most if those are the only ways you can profit you ve already peaked all that s left is your decline   \n",
       "\n",
       "                                                                                                                                                                                                                                                                                                                                                                                                                                                                                                                          Tokens  \\\n",
       "0                                                                                                                                                                                                                                                                                                                                                                                            [great, music, service, the, audio, is, high, quality, and, the, app, is, easy, to, use, also, very, quick, and, friendly, support]   \n",
       "1                                                                                                                                                                                                                                                                                                                                                                                                                            [please, ignore, previous, negative, rating, this, app, is, super, great, i, give, it, five, stars]   \n",
       "2                                                                                                                                                                                                                                                                                                                                                                                                       [this, pop, up, get, the, best, spotify, experience, on, android, is, too, annoying, please, let, s, get, rid, of, this]   \n",
       "3                                                                                                                                                                                                                                                                                                                                                                                                                                                                      [really, buggy, and, terrible, to, use, as, of, recently]   \n",
       "4                                                                                                                                                                                                                                                                                                                                                                                                        [dear, spotify, why, do, i, get, songs, that, i, didn, t, put, on, my, playlist, and, why, do, we, have, shuffle, play]   \n",
       "5                                                                                                                                                                                                                                                                                                                                                                                           [the, player, controls, sometimes, disappear, for, no, reason, app, restart, forgets, what, i, was, playing, but, fixes, the, issue]   \n",
       "6                                                                                                                                                                                                                                                                                                                                                                                                                            [i, love, the, selection, and, the, lyrics, are, provided, with, the, song, you, re, listening, to]   \n",
       "7                                                                                                        [still, extremely, slow, when, changing, storage, to, external, sd, card, i, m, convinced, this, is, done, on, purpose, spotify, knows, of, this, issue, and, has, done, nothing, to, solve, it, over, time, i, have, changed, sd, cards, each, being, faster, in, read, write, speeds, all, samsung, brand, and, please, add, don, t, like, song, so, it, will, never, appear, again, in, my, searches, or, playlists]   \n",
       "8                                                                                                                                                                                                                                                                   [it, s, a, great, app, and, the, best, mp, music, app, i, have, ever, used, but, there, is, one, problem, that, why, can, t, we, play, some, songs, or, find, some, songs, despite, this, the, app, is, wonderful, i, recommend, it, it, s, just, the, best]   \n",
       "9  [i, m, deleting, this, app, for, the, following, reasons, this, app, now, has, a, failing, business, model, whether, streaming, services, like, it, or, not, the, consumer, doesn, t, want, to, pay, for, music, they, can, t, fully, own, and, ads, successively, upon, logging, in, before, a, single, song, is, too, much, closed, the, app, during, ad, number, and, i, m, more, patient, than, most, if, those, are, the, only, ways, you, can, profit, you, ve, already, peaked, all, that, s, left, is, your, decline]   \n",
       "\n",
       "                                                                                                                                                                                                                                               Filtered_Tokens  \\\n",
       "0                                                                                                                                                                            [great, service, audio, high, quality, easy, use, also, quick, friendly, support]   \n",
       "1                                                                                                                                                                                [please, ignore, previous, negative, rating, super, great, give, five, stars]   \n",
       "2                                                                                                                                                                                                 [pop, best, experience, android, annoying, please, let, rid]   \n",
       "3                                                                                                                                                                                                                     [really, buggy, terrible, use, recently]   \n",
       "4                                                                                                                                                                                                                                         [dear, put, shuffle]   \n",
       "5                                                                                                                                                                             [player, controls, sometimes, disappear, reason, restart, forgets, fixes, issue]   \n",
       "6                                                                                                                                                                                                               [love, selection, lyrics, provided, listening]   \n",
       "7  [still, extremely, slow, changing, storage, external, sd, card, convinced, done, purpose, knows, issue, done, nothing, solve, time, changed, sd, cards, faster, read, write, speeds, samsung, brand, please, add, like, never, appear, searches, playlists]   \n",
       "8                                                                                                                                                                       [great, best, mp, ever, used, one, problem, find, despite, wonderful, recommend, best]   \n",
       "9          [deleting, following, reasons, failing, business, model, whether, streaming, services, like, consumer, want, pay, fully, ads, successively, upon, logging, single, much, closed, ad, number, patient, ways, profit, already, peaked, left, decline]   \n",
       "\n",
       "                                                                                                                                                                                                                                Lemmatized_Tokens  \\\n",
       "0                                                                                                                                                               [great, service, audio, high, quality, easy, use, also, quick, friendly, support]   \n",
       "1                                                                                                                                                                       [please, ignore, previous, negative, rat, super, great, give, five, star]   \n",
       "2                                                                                                                                                                                       [pop, best, experience, android, annoy, please, let, rid]   \n",
       "3                                                                                                                                                                                                        [really, buggy, terrible, use, recently]   \n",
       "4                                                                                                                                                                                                                            [dear, put, shuffle]   \n",
       "5                                                                                                                                                                    [player, control, sometimes, disappear, reason, restart, forget, fix, issue]   \n",
       "6                                                                                                                                                                                                       [love, selection, lyric, provide, listen]   \n",
       "7  [still, extremely, slow, change, storage, external, sd, card, convince, do, purpose, know, issue, do, nothing, solve, time, change, sd, card, faster, read, write, speed, samsung, brand, please, add, like, never, appear, search, playlists]   \n",
       "8                                                                                                                                                           [great, best, mp, ever, use, one, problem, find, despite, wonderful, recommend, best]   \n",
       "9                [delete, follow, reason, fail, business, model, whether, stream, service, like, consumer, want, pay, fully, ads, successively, upon, log, single, much, close, ad, number, patient, ways, profit, already, peak, leave, decline]   \n",
       "\n",
       "                                                                                                                                                                                                   TFIDF_Tokens  \n",
       "0                                                                                                                                         great service audio high quality easy use also quick friendly support  \n",
       "1                                                                                                                                                please ignore previous negative rat super great give five star  \n",
       "2                                                                                                                                                              pop best experience android annoy please let rid  \n",
       "3                                                                                                                                                                            really buggy terrible use recently  \n",
       "4                                                                                                                                                                                              dear put shuffle  \n",
       "5                                                                                                                                            player control sometimes disappear reason restart forget fix issue  \n",
       "6                                                                                                                                                                           love selection lyric provide listen  \n",
       "7  still extremely slow change storage external sd card convince do purpose know issue do nothing solve time change sd card faster read write speed samsung brand please add like never appear search playlists  \n",
       "8                                                                                                                                      great best mp ever use one problem find despite wonderful recommend best  \n",
       "9             delete follow reason fail business model whether stream service like consumer want pay fully ads successively upon log single much close ad number patient ways profit already peak leave decline  "
      ]
     },
     "execution_count": 31,
     "metadata": {},
     "output_type": "execute_result"
    }
   ],
   "source": [
    "tfidf_matrix, feature_names = apply_tfidf(df)\n",
    "df.head(10)"
   ]
  },
  {
   "cell_type": "code",
   "execution_count": 32,
   "metadata": {},
   "outputs": [],
   "source": [
    "from sklearn.model_selection import train_test_split\n",
    "from sklearn.metrics import accuracy_score\n",
    "X = tfidf_matrix  # Features from TF-IDF\n",
    "y = df['label']   # Target labels\n",
    "\n",
    "\n",
    "X_train, X_test, y_train, y_test = train_test_split(X, y, test_size=0.2)"
   ]
  },
  {
   "cell_type": "code",
   "execution_count": 33,
   "metadata": {},
   "outputs": [
    {
     "name": "stdout",
     "output_type": "stream",
     "text": [
      "Logistic Regression Accuracy: 87.8630 %\n"
     ]
    }
   ],
   "source": [
    "from sklearn.linear_model import LogisticRegression\n",
    "\n",
    "model=LogisticRegression()\n",
    "model.fit(X_train, y_train)\n",
    "y_pred = model.predict(X_test)\n",
    "accuracy = accuracy_score(y_test, y_pred)\n",
    "real_accuracy= accuracy*100\n",
    "print(f\"Logistic Regression Accuracy: {real_accuracy:.4f} %\")"
   ]
  }
 ],
 "metadata": {
  "kernelspec": {
   "display_name": "NLP_env",
   "language": "python",
   "name": "python3"
  },
  "language_info": {
   "codemirror_mode": {
    "name": "ipython",
    "version": 3
   },
   "file_extension": ".py",
   "mimetype": "text/x-python",
   "name": "python",
   "nbconvert_exporter": "python",
   "pygments_lexer": "ipython3",
   "version": "3.11.10"
  }
 },
 "nbformat": 4,
 "nbformat_minor": 2
}
