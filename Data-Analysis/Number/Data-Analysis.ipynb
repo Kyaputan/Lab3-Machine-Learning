{
 "cells": [
  {
   "cell_type": "markdown",
   "metadata": {},
   "source": [
    "# Load Data And Fine Na"
   ]
  },
  {
   "cell_type": "code",
   "execution_count": null,
   "metadata": {},
   "outputs": [],
   "source": [
    "import time\n",
    "import pandas as pd\n",
    "\n",
    "print(\"Loading data file now, this could take a while depending on file size\")\n",
    "start = time.time()\n",
    "df = pd.read_csv('') # ADD-CSV\n",
    "end = time.time()\n",
    "print(\"Loading took \" + str(round(end - start, 2)) + \" seconds\")\n",
    "missing_values = df.isna().sum().sum()\n",
    "duplicated_values = df.duplicated().sum()\n",
    "print(f'\\nMissing values: {missing_values}')\n",
    "print(f'Duplicated values: {duplicated_values}')\n",
    "if missing_values >= 1:\n",
    "    print('\\nMissing values by column:')\n",
    "    print(df.isna().sum())\n",
    "print(\"\\nUnique Values in Each Column:\")\n",
    "print(df.nunique())"
   ]
  },
  {
   "cell_type": "markdown",
   "metadata": {},
   "source": [
    "## แยกข้อมูล ตัวเลขและStr"
   ]
  },
  {
   "cell_type": "code",
   "execution_count": null,
   "metadata": {},
   "outputs": [],
   "source": [
    "# Separate numerical and categorical columns\n",
    "numerical_columns = df.select_dtypes(include=['int64', 'float64']).columns.tolist()\n",
    "non_numerical_columns = df.select_dtypes(include=['object']).columns.tolist()\n",
    "\n",
    "# Display the lists of numerical and categorical columns\n",
    "print(\"\\nNumerical Columns:\", numerical_columns)\n",
    "print(\"Categorical Columns:\", non_numerical_columns)"
   ]
  },
  {
   "cell_type": "markdown",
   "metadata": {},
   "source": [
    "### หาการกระจากตัวของข้อมูล\n",
    "เส้นกลางกล่อง: ค่ามัธยฐาน (Median)\n",
    "\n",
    "กรอบกล่อง (IQR): แสดงช่วงระหว่างควอไทล์ที่ 1 (25%) และควอไทล์ที่ 3 (75%)\n",
    "\n",
    "เส้นขีด: แสดงค่าข้อมูลที่อยู่ในช่วงไม่เกิน 1.5 เท่าของ IQR\n",
    "\n",
    "จุด (Outliers): ค่าที่อยู่ไกลเกินกว่า 1.5 เท่าของ IQR"
   ]
  },
  {
   "cell_type": "code",
   "execution_count": null,
   "metadata": {},
   "outputs": [],
   "source": [
    "import matplotlib.pyplot as plt\n",
    "import seaborn as sns\n",
    "def plot_histograms(df, numerical_columns):\n",
    "    for column in numerical_columns:\n",
    "        plt.figure(figsize=(8, 5))\n",
    "        # Create a histogram with KDE\n",
    "        sns.histplot(df[column], bins=30, kde=True, color='#ff8c00')  \n",
    "        plt.title(f'Distribution of {column}')\n",
    "        plt.xlabel(column)\n",
    "        plt.ylabel('Frequency')\n",
    "        plt.show()\n",
    "\n",
    "\n",
    "# numerical_columns = ['TransactionAmount', 'CustomerAge', 'TransactionDuration', 'LoginAttempts', 'AccountBalance']\n",
    "# plot_histograms(df, numerical_columns)"
   ]
  },
  {
   "cell_type": "markdown",
   "metadata": {},
   "source": [
    "## หาความสัมพันธ์ของข้อมูลตัวเลข\n",
    "\n",
    "จะดูแค่จากฝั่งซ้ายล่าง ถ้ามีความสัมพันธ์กันจะมีค่าใกล้ 1 ขึ้น แต่ถ้าไม่เกี่ยวข้องกันเลยจะมีค่าใกล้ -1"
   ]
  },
  {
   "cell_type": "code",
   "execution_count": null,
   "metadata": {},
   "outputs": [],
   "source": [
    "numerical_columns = df.select_dtypes(include=['int64', 'float64']).columns.tolist()\n",
    "correlation_matrix = df[numerical_columns].corr()\n",
    "plt.figure(figsize=(8, 6))\n",
    "sns.heatmap(correlation_matrix, annot=True, cmap='coolwarm', fmt=\".2f\")\n",
    "plt.title('Correlation Matrix for Numerical Columns')\n",
    "plt.show()"
   ]
  },
  {
   "cell_type": "markdown",
   "metadata": {},
   "source": [
    "## ดูเนื้อหาประเภทหมวดหมู่"
   ]
  },
  {
   "cell_type": "code",
   "execution_count": null,
   "metadata": {},
   "outputs": [],
   "source": [
    "print(\"\\nUnique Values in Each Column:\")\n",
    "print(df.nunique())"
   ]
  },
  {
   "cell_type": "code",
   "execution_count": null,
   "metadata": {},
   "outputs": [],
   "source": [
    "def plot_categorical_distributions(columns, data=df, palette='muted'):\n",
    "    plt.figure(figsize=(18, 6))  \n",
    "    \n",
    "    # Loop through each column and create a pie chart\n",
    "    for i, column_name in enumerate(columns):\n",
    "        plt.subplot(1, 3, i + 1)  \n",
    "        value_counts = data[column_name].value_counts()\n",
    "        value_counts.plot.pie(autopct='%1.1f%%', colors=sns.color_palette(palette), \n",
    "                               startangle=90, explode=[0.05] * value_counts.nunique())\n",
    "        \n",
    "        plt.title(f'Percentage Distribution of {column_name}')\n",
    "        plt.ylabel('')  \n",
    "    \n",
    "    plt.tight_layout()\n",
    "    plt.show()\n",
    "\n",
    "\n",
    "# columns_to_plot = ['TransactionType', 'Channel', 'CustomerOccupation']\n",
    "# plot_categorical_distributions(columns_to_plot)"
   ]
  },
  {
   "cell_type": "markdown",
   "metadata": {},
   "source": [
    "### ดูความถี่จำพวกหมวดหมู่"
   ]
  },
  {
   "cell_type": "code",
   "execution_count": null,
   "metadata": {},
   "outputs": [],
   "source": [
    "# Define a function to create bar plots, boxplots, and violin plots for relationships between a categorical variable and TransactionAmount\n",
    "def plot_categorical_relationships(column_name='column', data=df, target_column='', title_prefix='Relationship'):\n",
    "    plt.figure(figsize=(16, 5))\n",
    "    \n",
    "    # Bar Plot\n",
    "    plt.subplot(1, 3, 1)\n",
    "    avg_data = data.groupby(column_name)[target_column].mean().sort_values(ascending=False)\n",
    "    sns.barplot(x=avg_data.index, y=avg_data.values, palette='muted')\n",
    "    plt.title(f'{title_prefix} - Average {target_column} by {column_name}')\n",
    "    plt.xlabel(column_name)\n",
    "    plt.ylabel(f'Average {target_column}')\n",
    "    plt.xticks(rotation=45)\n",
    "    \n",
    "    # Boxplot\n",
    "    plt.subplot(1, 3, 2)\n",
    "    sns.boxplot(x=column_name, y=target_column, data=data, palette='muted')\n",
    "    plt.title(f'{title_prefix} - {target_column} Distribution by {column_name}')\n",
    "    plt.xlabel(column_name)\n",
    "    plt.ylabel(target_column)\n",
    "    plt.xticks(rotation=45)\n",
    "    \n",
    "    # Violin Plot\n",
    "    plt.subplot(1, 3, 3)\n",
    "    sns.violinplot(x=column_name, y=target_column, data=data, palette='muted')\n",
    "    plt.title(f'{title_prefix} - {target_column} Violin Plot by {column_name}')\n",
    "    plt.xlabel(column_name)\n",
    "    plt.ylabel(target_column)\n",
    "    plt.xticks(rotation=45)\n",
    "    \n",
    "    plt.tight_layout()\n",
    "    plt.show()\n",
    "\n",
    "# Example usage with default parameters\n",
    "target_categorical_variables = ['alcohol', 'malic_acid', 'ash']\n",
    "for column in target_categorical_variables:\n",
    "    plot_categorical_relationships(column_name=column, target_column=column)\n"
   ]
  },
  {
   "cell_type": "markdown",
   "metadata": {},
   "source": [
    "## ดู 10 อันดับที่มากที่สุด"
   ]
  },
  {
   "cell_type": "code",
   "execution_count": null,
   "metadata": {},
   "outputs": [],
   "source": [
    "def plot_top_categories_pie_charts(columns, data=df, palette='muted'):\n",
    "    plt.figure(figsize=(len(columns) * 6, 6))  \n",
    "    \n",
    "    # Loop through each column and create a pie chart\n",
    "    for i, column_name in enumerate(columns):\n",
    "        plt.subplot(1, len(columns), i + 1)  \n",
    "        \n",
    "        # Get the top 10 categories based on frequency\n",
    "        top_categories = data[column_name].value_counts().nlargest(10)\n",
    "        \n",
    "        # Plot the pie chart\n",
    "        top_categories.plot.pie(autopct='%1.1f%%', colors=sns.color_palette(palette), \n",
    "                                 startangle=90, explode=[0.05] * len(top_categories))\n",
    "        \n",
    "        plt.title(f'Top 10 Categories of {column_name}')\n",
    "        plt.ylabel('')  \n",
    "    \n",
    "    plt.tight_layout()\n",
    "    plt.show()\n",
    "\n",
    "\n",
    "# columns_to_plot = ['Location', 'MerchantID']\n",
    "# plot_top_categories_pie_charts(columns_to_plot)"
   ]
  },
  {
   "cell_type": "markdown",
   "metadata": {},
   "source": [
    "## ดูความถี่ 10 อันดับที่มากที่สุด"
   ]
  },
  {
   "cell_type": "markdown",
   "metadata": {},
   "source": [
    "column_name : ตัวแปรจำพวกหมวดหมู่ เช่น จังหวัด (กรุงเทพ, เชียงใหม่, ภูเก็ต) ระดับการศึกษา (ม.6, ป.ตรี, ป.โท) เพศ (Male, Female)\n",
    "\n",
    "target_column : ตัวแปรเชิงปริมาณ ที่เราต้องการศึกษา เช่น ยอดขาย (Sales) คะแนนความพึงพอใจ (Rating) อายุ (Age) ราคา (Price)"
   ]
  },
  {
   "cell_type": "code",
   "execution_count": null,
   "metadata": {},
   "outputs": [],
   "source": [
    "import pandas as pd\n",
    "import matplotlib.pyplot as plt\n",
    "import pandas as pd\n",
    "import matplotlib.pyplot as plt\n",
    "import seaborn as sns\n",
    "from typing import Optional, Union\n",
    "import numpy as np\n",
    "\n",
    "\n",
    "def plot_categorical_relationships(\n",
    "    column_name: str='', \n",
    "    data: pd.DataFrame = df,  \n",
    "    target_column: str='', \n",
    "    top_n: int = 10, \n",
    "    title_prefix: str = 'Analysis', \n",
    "    figsize: tuple = (18, 5), \n",
    "    palette: str = 'muted', \n",
    "    rotation: int = 45, \n",
    "    min_count: int = 1\n",
    ") -> None:\n",
    "\n",
    "    # Input validation\n",
    "    if not isinstance(data, pd.DataFrame):\n",
    "        raise ValueError(\"data must be a pandas DataFrame\")\n",
    "    if column_name not in data.columns:\n",
    "        raise ValueError(f\"Column '{column_name}' not found in DataFrame\")\n",
    "    if target_column not in data.columns:\n",
    "        raise ValueError(f\"Target column '{target_column}' not found in DataFrame\")\n",
    "    if top_n < 1:\n",
    "        raise ValueError(\"top_n must be positive\")\n",
    "    \n",
    "    # Filter categories with minimum count\n",
    "    value_counts = data[column_name].value_counts()\n",
    "    valid_categories = value_counts[value_counts >= min_count].head(top_n).index\n",
    "    \n",
    "    # Handle case when no categories meet criteria\n",
    "    if len(valid_categories) == 0:\n",
    "        print(\"No categories meet the minimum count criterion\")\n",
    "        return\n",
    "    \n",
    "    # Filter data\n",
    "    filtered_data = data[data[column_name].isin(valid_categories)].copy()\n",
    "    \n",
    "    # Sort categories by frequency\n",
    "    category_order = filtered_data[column_name].value_counts().index\n",
    "    \n",
    "    # Create figure\n",
    "    plt.figure(figsize=figsize)\n",
    "    \n",
    "    # Bar Plot\n",
    "    plt.subplot(1, 3, 1)\n",
    "    avg_value = filtered_data.groupby(column_name)[target_column].agg(['mean', 'count'])\n",
    "    sns.barplot(x=avg_value.index, y='mean', data=avg_value, order=category_order, palette=palette)\n",
    "    plt.title(f'{title_prefix}\\nAverage {target_column} by {column_name}\\n(Top {len(valid_categories)})')\n",
    "    plt.xlabel(f'{column_name}\\n(n=samples in each category)')\n",
    "    plt.ylabel(f'Average {target_column}')\n",
    "    plt.xticks(rotation=rotation)\n",
    "    \n",
    "    # Add sample size annotations\n",
    "    for i, count in enumerate(avg_value['count']):\n",
    "        plt.text(i, 0, f'n={count}', ha='center', va='bottom')\n",
    "    \n",
    "    # Boxplot\n",
    "    plt.subplot(1, 3, 2)\n",
    "    sns.boxplot(x=column_name, y=target_column, data=filtered_data, \n",
    "                order=category_order, palette=palette)\n",
    "    plt.title(f'{title_prefix}\\n{target_column} Distribution by {column_name}')\n",
    "    plt.xlabel(column_name)\n",
    "    plt.ylabel(target_column)\n",
    "    plt.xticks(rotation=rotation)\n",
    "    \n",
    "    # Violin Plot\n",
    "    plt.subplot(1, 3, 3)\n",
    "    sns.violinplot(x=column_name, y=target_column, data=filtered_data,order=category_order, palette=palette)\n",
    "    plt.title(f'{title_prefix}\\n{target_column} Distribution (Violin) by {column_name}')\n",
    "    plt.xlabel(column_name)\n",
    "    plt.ylabel(target_column)\n",
    "    plt.xticks(rotation=rotation)\n",
    "    \n",
    "    # Adjust layout and display\n",
    "    plt.tight_layout()\n",
    "    plt.show()\n",
    "\n",
    "# plot_categorical_relationships('target', target_column='malic_acid')\n",
    "# plot_categorical_relationships('alcohol', target_column='nonflavanoid_phenols')\n"
   ]
  },
  {
   "cell_type": "code",
   "execution_count": null,
   "metadata": {},
   "outputs": [],
   "source": []
  }
 ],
 "metadata": {
  "kernelspec": {
   "display_name": "Python 3",
   "language": "python",
   "name": "python3"
  },
  "language_info": {
   "codemirror_mode": {
    "name": "ipython",
    "version": 3
   },
   "file_extension": ".py",
   "mimetype": "text/x-python",
   "name": "python",
   "nbconvert_exporter": "python",
   "pygments_lexer": "ipython3",
   "version": "3.11.9"
  }
 },
 "nbformat": 4,
 "nbformat_minor": 2
}
