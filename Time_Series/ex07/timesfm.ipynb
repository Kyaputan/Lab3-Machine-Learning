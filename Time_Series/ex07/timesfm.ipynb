{
 "cells": [
  {
   "cell_type": "code",
   "execution_count": null,
   "metadata": {},
   "outputs": [],
   "source": [
    "!pip install -q timesfm\n",
    "!pip -q install huggingface_hub[cli] utilsforecast praxis paxml jax[cuda12]==0.4.26 einshape"
   ]
  },
  {
   "cell_type": "code",
   "execution_count": null,
   "metadata": {},
   "outputs": [],
   "source": [
    "import timesfm\n",
    "import pandas as pd\n",
    "import matplotlib.pyplot as plt\n",
    "import matplotlib as mpl\n",
    "import numpy as np\n",
    "import time\n",
    "import ast\n",
    "\n",
    "from datetime import datetime\n",
    "%matplotlib inline\n",
    "from matplotlib.pylab import rcParams\n",
    "from statsmodels.tsa.stattools import adfuller\n",
    "from statsmodels.tsa.seasonal import seasonal_decompose"
   ]
  },
  {
   "cell_type": "code",
   "execution_count": null,
   "metadata": {},
   "outputs": [],
   "source": [
    "print(\"Loading data file now, this could take a while depending on file size\")\n",
    "start = time.time()\n",
    "df = pd.read_csv('/kaggle/input/forecasting-electricity-consumption/train.csv')\n",
    "end = time.time()\n",
    "print(\"Loading took \" + str(round(end - start, 2)) + \" seconds\")"
   ]
  },
  {
   "cell_type": "code",
   "execution_count": null,
   "metadata": {},
   "outputs": [],
   "source": [
    "tfm = timesfm.TimesFm(\n",
    "    context_len=192,         # ค่าขนาดข้อมูล input_patch_len * 2 , 3 , 4 , ...\n",
    "    horizon_len=12,         # จำนวนลำดับที่คาดการณ์ \n",
    "    input_patch_len=32,     # ปรับให้เป็นค่าเดียวกับ context_len %fix\n",
    "    output_patch_len=128,    # ขนาดของแพทช์ข้อมูลที่คาดการณ์ %fix\n",
    "    num_layers=20,           # จำนวนเลเยอร์ %fix\n",
    "    model_dims=1280,        # ขนาดมิติของโมเดล %fix\n",
    "    backend=\"gpu\",\n",
    ")\n",
    "tfm.load_from_checkpoint(repo_id=\"google/timesfm-1.0-200m\")"
   ]
  },
  {
   "cell_type": "code",
   "execution_count": null,
   "metadata": {},
   "outputs": [],
   "source": [
    "def get_season(month):\n",
    "    if month in [2, 3, 4, 5]:  # ฤดูร้อน\n",
    "        return 'Summer'\n",
    "    elif month in [6, 7, 8, 9, 10]:  # ฤดูฝน\n",
    "        return 'Rainy'\n",
    "    else:  # ฤดูหนาว\n",
    "        return 'Winter'\n",
    "# เพิ่มคอลัมน์เดือนและฤดู\n",
    "df['ds'] = df['num_id'] % 12\n",
    "df['Season'] = df['ds'].apply(get_season)"
   ]
  },
  {
   "cell_type": "code",
   "execution_count": null,
   "metadata": {},
   "outputs": [],
   "source": [
    "import pandas as pd\n",
    "import numpy as np\n",
    "from datetime import datetime, timedelta\n",
    "\n",
    "start_date = pd.to_datetime(\"2014-01-01\")  # เดือน ม.ค. 2557\n",
    "end_date = pd.to_datetime(\"2023-06-01\")    # เดือน มิ.ย. 2566\n",
    "\n",
    "\n",
    "data_y1 = pd.DataFrame({\n",
    "    'ds': pd.date_range(start='2014-01-01', periods=114, freq='M'),\n",
    "    'y1': df['y1'],\n",
    "    'unique_id': ['y1'] * 114\n",
    "})\n",
    "\n",
    "data_y2 = pd.DataFrame({\n",
    "    'ds': pd.date_range(start='2014-01-01', periods=114, freq='M'),\n",
    "    'y2': df['y2'],\n",
    "    'unique_id': ['y2'] * 114\n",
    "})\n",
    "\n",
    "data_y3 = pd.DataFrame({\n",
    "    'ds': pd.date_range(start='2014-01-01', periods=114, freq='M'),\n",
    "    'y3': df['y3'],\n",
    "    'unique_id': ['y3'] * 114\n",
    "})"
   ]
  },
  {
   "cell_type": "code",
   "execution_count": null,
   "metadata": {},
   "outputs": [],
   "source": [
    "forecast_df_y1 = tfm.forecast_on_df(\n",
    "    inputs=data_y1,\n",
    "    freq=\"M\",\n",
    "    value_name=\"y1\",  # ต้องตรงกับชื่อคอลัมน์\n",
    "    num_jobs=-1,\n",
    ")\n",
    "\n",
    "forecast_df_y2 = tfm.forecast_on_df(\n",
    "    inputs=data_y2,\n",
    "    freq=\"M\",\n",
    "    value_name=\"y2\",  # ต้องตรงกับชื่อคอลัมน์\n",
    "    num_jobs=-1,\n",
    ")\n",
    "\n",
    "forecast_df_y3 = tfm.forecast_on_df(\n",
    "    inputs=data_y3,\n",
    "    freq=\"M\",\n",
    "    value_name=\"y3\",  # ต้องตรงกับชื่อคอลัมน์\n",
    "    num_jobs=-1,\n",
    ")"
   ]
  },
  {
   "cell_type": "code",
   "execution_count": null,
   "metadata": {},
   "outputs": [],
   "source": [
    "prediction_y1_np=np.array([forecast_df_y1['timesfm']])\n",
    "prediction_y2_np=np.array([forecast_df_y2['timesfm']])\n",
    "prediction_y3_np=np.array([forecast_df_y3['timesfm']])"
   ]
  },
  {
   "cell_type": "code",
   "execution_count": null,
   "metadata": {},
   "outputs": [],
   "source": [
    "prediction_y1_np\n",
    "prediction_y2_np\n",
    "prediction_y3_np"
   ]
  },
  {
   "cell_type": "code",
   "execution_count": null,
   "metadata": {},
   "outputs": [],
   "source": [
    "np_original_data_y1 = np.array([[1026340.25,  936407.3 ,  907058.1 ,  883658.6 ,  879586.4 ,\n",
    "         844402.9 ,  836691.  ,  867292.25, 1197043.2 , 1476412.9 ,\n",
    "        1575194.6 , 1311701.  ]])\n",
    "\n",
    "np_original_data_y2 = np.array([[64436072., 66194192., 62646024., 62495128., 60237336., 53534776.,\n",
    "        54221604., 54082088., 62524664., 55753156., 62791804., 62187372.]])\n",
    "\n",
    "np_original_data_y3 = np.array([[2138774. , 2025948.2, 2019808.8, 2008996.5, 1867466.8, 1691311.6,\n",
    "        1497950.1, 1407528.5, 1701985.8, 2090395.8, 2447529. , 2194872.8]])\n",
    "\n",
    "# Flatten the arrays to 1D\n",
    "np_original_data_y1 = np_original_data_y1.flatten()\n",
    "np_original_data_y2 = np_original_data_y2.flatten()\n",
    "np_original_data_y3 = np_original_data_y3.flatten()\n",
    "\n",
    "# Combine the data from the three arrays\n",
    "combined_data = np.concatenate([np_original_data_y1, np_original_data_y2, np_original_data_y3])\n",
    "\n",
    "# Create an id array from 1 to the length of combined_data\n",
    "id_array = np.arange(1, len(combined_data) + 1)\n",
    "\n",
    "# Create a DataFrame\n",
    "df = pd.DataFrame({\n",
    "    'id': id_array,\n",
    "    'Predict': combined_data\n",
    "})\n",
    "\n",
    "# Specify the CSV file name\n",
    "csv_file = 'predictions_1.csv'  # Change this to your desired file name\n",
    "\n",
    "# Save to CSV\n",
    "df.to_csv(csv_file, index=False)"
   ]
  }
 ],
 "metadata": {
  "language_info": {
   "name": "python"
  }
 },
 "nbformat": 4,
 "nbformat_minor": 2
}
