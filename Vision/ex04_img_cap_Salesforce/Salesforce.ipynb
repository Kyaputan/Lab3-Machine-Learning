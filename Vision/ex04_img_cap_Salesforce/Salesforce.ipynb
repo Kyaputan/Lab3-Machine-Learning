{
 "cells": [
  {
   "cell_type": "code",
   "execution_count": 1,
   "metadata": {},
   "outputs": [],
   "source": [
    "import os\n",
    "import torch\n",
    "from PIL import Image\n",
    "from tqdm import tqdm\n",
    "from transformers import Blip2Processor, Blip2ForConditionalGeneration, BitsAndBytesConfig\n",
    "from pythainlp.translate import Translate\n",
    "import pandas as pd"
   ]
  },
  {
   "cell_type": "code",
   "execution_count": null,
   "metadata": {},
   "outputs": [],
   "source": [
    "translate_model = Translate('en', 'th', use_gpu=True)"
   ]
  },
  {
   "cell_type": "code",
   "execution_count": null,
   "metadata": {},
   "outputs": [],
   "source": [
    "processor = Blip2Processor.from_pretrained(\"Salesforce/blip2-opt-6.7b-coco\")\n",
    "\n",
    "bnb_config = BitsAndBytesConfig(\n",
    "    load_in_4bit=True, \n",
    "    bnb_4bit_use_double_quant=False, \n",
    "    bnb_4bit_quant_type=\"nf4\"\n",
    ")\n",
    "\n",
    "model = Blip2ForConditionalGeneration.from_pretrained(\n",
    "    \"Salesforce/blip2-opt-6.7b-coco\",\n",
    "    quantization_config=bnb_config,\n",
    "    device_map='cuda',\n",
    "    torch_dtype=torch.float16\n",
    ")"
   ]
  },
  {
   "cell_type": "code",
   "execution_count": null,
   "metadata": {},
   "outputs": [],
   "source": [
    "def process_image(image_path):\n",
    "    \"\"\"ประมวลผลภาพและสร้างคำบรรยายภาษาไทย\"\"\"\n",
    "    try:\n",
    "        image = Image.open(image_path).convert('RGB')\n",
    "        image_id = os.path.basename(image_path)\n",
    "\n",
    "        inputs = processor(images=image, return_tensors=\"pt\").to(\"cuda\", torch.float16)\n",
    "        outputs = model.generate(**inputs)\n",
    "\n",
    "        caption_en = processor.decode(outputs[0], skip_special_tokens=True)\n",
    "        caption_th = translate_model.translate(caption_en)\n",
    "\n",
    "        return image_id, caption_th\n",
    "\n",
    "    except Exception as e:\n",
    "        print(f\"Error processing image {image_path}: {e}\")\n",
    "        return None, None"
   ]
  },
  {
   "cell_type": "code",
   "execution_count": null,
   "metadata": {},
   "outputs": [],
   "source": [
    "def process_images_in_folder(folder_path):\n",
    "    \"\"\"ประมวลผลภาพทั้งหมดในโฟลเดอร์\"\"\"\n",
    "    image_paths = [os.path.join(folder_path, f) for f in os.listdir(folder_path) if f.endswith(('.jpg', '.png', '.jpeg'))]\n",
    "    results = []\n",
    "\n",
    "    for image_path in tqdm(image_paths):\n",
    "        image_id, caption = process_image(image_path)\n",
    "        if image_id and caption:\n",
    "            results.append((image_id, caption))\n",
    "\n",
    "    return results"
   ]
  },
  {
   "cell_type": "code",
   "execution_count": null,
   "metadata": {},
   "outputs": [],
   "source": [
    "if __name__ == '__main__':\n",
    "\n",
    "    path_img = \"/kaggle/input/coco-2017-dataset/coco2017/test2017\"\n",
    "    results = process_images_in_folder(path_img)\n",
    "\n",
    "    # บันทึกผลลัพธ์ลงในไฟล์ CSV\n",
    "    submission = pd.DataFrame(results, columns=['image_id', 'caption'])\n",
    "    submission.to_csv('submission.csv', index=False)\n"
   ]
  }
 ],
 "metadata": {
  "kernelspec": {
   "display_name": "NLP",
   "language": "python",
   "name": "python3"
  },
  "language_info": {
   "codemirror_mode": {
    "name": "ipython",
    "version": 3
   },
   "file_extension": ".py",
   "mimetype": "text/x-python",
   "name": "python",
   "nbconvert_exporter": "python",
   "pygments_lexer": "ipython3",
   "version": "3.11.10"
  }
 },
 "nbformat": 4,
 "nbformat_minor": 2
}
