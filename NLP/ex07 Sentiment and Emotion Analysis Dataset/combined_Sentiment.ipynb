{
 "cells": [
  {
   "cell_type": "code",
   "execution_count": 6,
   "metadata": {},
   "outputs": [],
   "source": [
    "import matplotlib.pyplot as plt\n",
    "import seaborn as sns\n",
    "import time\n",
    "import pandas as pd"
   ]
  },
  {
   "cell_type": "code",
   "execution_count": 8,
   "metadata": {},
   "outputs": [
    {
     "name": "stdout",
     "output_type": "stream",
     "text": [
      "Loading data file now, this could take a while depending on file size\n",
      "Loading took 0.59 seconds\n",
      "\n",
      "=========================================\n",
      "\n",
      "Sentiment Data:\n",
      "\n",
      "Missing values: 0\n",
      "Duplicated values: 19\n",
      "\n",
      "Unique Values in Each Column:\n",
      "sentence     3289\n",
      "sentiment       2\n",
      "dtype: int64\n",
      "\n",
      "\n",
      "=========================================\n",
      "\n",
      "Emotion Data:\n",
      "\n",
      "Missing values: 0\n",
      "Duplicated values: 6623\n",
      "\n",
      "Unique Values in Each Column:\n",
      "sentence    393822\n",
      "emotion          6\n",
      "dtype: int64\n",
      "\n",
      "\n",
      "=========================================\n"
     ]
    }
   ],
   "source": [
    "print(\"Loading data file now, this could take a while depending on file size\")\n",
    "start = time.time()\n",
    "df_sentiment = pd.read_csv('combined_sentiment_data.csv') # ADD-CSV\n",
    "df_emotion = pd.read_csv('combined_emotion.csv') # ADD-CSV\n",
    "end = time.time()\n",
    "print(\"Loading took \" + str(round(end - start, 2)) + \" seconds\\n\")\n",
    "print(\"=========================================\\n\")\n",
    "print('Sentiment Data:')\n",
    "missing_values = df_sentiment.isna().sum().sum()\n",
    "duplicated_values = df_sentiment.duplicated().sum()\n",
    "print(f'\\nMissing values: {missing_values}')\n",
    "print(f'Duplicated values: {duplicated_values}')\n",
    "if missing_values >= 1:\n",
    "    print('\\nMissing values by column:')\n",
    "    print(df_sentiment.isna().sum())\n",
    "print(\"\\nUnique Values in Each Column:\")\n",
    "print(df_sentiment.nunique())\n",
    "print('\\n')\n",
    "print(\"=========================================\\n\")\n",
    "print('Emotion Data:')\n",
    "missing_values = df_emotion.isna().sum().sum()\n",
    "duplicated_values = df_emotion.duplicated().sum()\n",
    "print(f'\\nMissing values: {missing_values}')\n",
    "print(f'Duplicated values: {duplicated_values}')\n",
    "if missing_values >= 1:\n",
    "    print('\\nMissing values by column:')\n",
    "    print(df_emotion.isna().sum())\n",
    "print(\"\\nUnique Values in Each Column:\")\n",
    "print(df_emotion.nunique())\n",
    "print('\\n')\n",
    "print(\"=========================================\")"
   ]
  }
 ],
 "metadata": {
  "kernelspec": {
   "display_name": "NLP",
   "language": "python",
   "name": "python3"
  },
  "language_info": {
   "codemirror_mode": {
    "name": "ipython",
    "version": 3
   },
   "file_extension": ".py",
   "mimetype": "text/x-python",
   "name": "python",
   "nbconvert_exporter": "python",
   "pygments_lexer": "ipython3",
   "version": "3.11.10"
  }
 },
 "nbformat": 4,
 "nbformat_minor": 2
}
