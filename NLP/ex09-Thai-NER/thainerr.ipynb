{
 "cells": [
  {
   "cell_type": "code",
   "execution_count": 15,
   "metadata": {},
   "outputs": [],
   "source": [
    "import os\n",
    "import csv\n",
    "\n",
    "\n",
    "def make_csv_for_text(input_folder, output_csv):\n",
    "    with open(output_csv, mode=\"w\", encoding=\"utf-8\", newline=\"\") as csv_file:\n",
    "        writer = csv.writer(csv_file)\n",
    "        writer.writerow([\"Filename\", \"Word\", \"POS\", \"Entity\", \"Class\"])\n",
    "    \n",
    "        for filename in sorted(os.listdir(input_folder)):\n",
    "            if filename.endswith('.txt'):\n",
    "                file_path = os.path.join(input_folder, filename)\n",
    "    \n",
    "                with open(file_path, mode=\"r\", encoding=\"utf-8\") as txt_file:\n",
    "                    for line in txt_file:\n",
    "                        parts = line.strip().split(\"\\t\")\n",
    "                        if len(parts) == 4:\n",
    "                            writer.writerow([filename] + parts)\n",
    "    \n",
    "    print(f\"แปลงไฟล์ .txt ทั้งหมดในโฟลเดอร์ '{input_folder}' เป็น '{output_csv}' เสร็จสิ้น!\")\n",
    "    \n",
    "    \n",
    "def make_csv_for_text_test(input_folder, output_csv):\n",
    "    with open(output_csv, mode=\"w\", encoding=\"utf-8\", newline=\"\") as csv_file:\n",
    "        writer = csv.writer(csv_file)\n",
    "        writer.writerow([\"Filename\", \"Word\", \"Class\"])  # Write header\n",
    "\n",
    "        for filename in sorted(os.listdir(input_folder)):\n",
    "            if filename.endswith('.txt'):  # Process only .txt files\n",
    "                file_path = os.path.join(input_folder, filename)\n",
    "\n",
    "                with open(file_path, mode=\"r\", encoding=\"utf-8\") as txt_file:\n",
    "                    for line in txt_file:\n",
    "                        parts = line.strip().split(\"\\t\")\n",
    "                        if len(parts) == 3:  # Ensure that line contains exactly 3 parts\n",
    "                            writer.writerow([filename] + parts)  # Write the filename, word, and class\n",
    "\n",
    "    print(f\"แปลงไฟล์ .txt ทั้งหมดในโฟลเดอร์ '{input_folder}' เป็น '{output_csv}' เสร็จสิ้น!\")"
   ]
  },
  {
   "cell_type": "code",
   "execution_count": null,
   "metadata": {},
   "outputs": [],
   "source": [
    "make_csv_for_text(input_folder=\"train/train\",output_csv=\"train.csv\")\n",
    "make_csv_for_text(input_folder=\"eval/eval\",output_csv=\"eval.csv\")\n",
    "make_csv_for_text_test(input_folder=\"test/test\",output_csv=\"test.csv\")"
   ]
  },
  {
   "cell_type": "code",
   "execution_count": 11,
   "metadata": {},
   "outputs": [
    {
     "name": "stdout",
     "output_type": "stream",
     "text": [
      "Loading data file now, this could take a while depending on file size\n",
      "Loading took 1.63 seconds\n",
      "\n"
     ]
    }
   ],
   "source": [
    "import time\n",
    "import pandas as pd\n",
    "\n",
    "print(\"Loading data file now, this could take a while depending on file size\")\n",
    "start = time.time()\n",
    "df_train = pd.read_csv('train.csv')\n",
    "df_eval =  pd.read_csv('eval.csv')\n",
    "df_test =  pd.read_csv('test.csv')\n",
    "end = time.time()\n",
    "print(\"Loading took \" + str(round(end - start, 2)) + \" seconds\\n\")\n"
   ]
  },
  {
   "cell_type": "code",
   "execution_count": 12,
   "metadata": {},
   "outputs": [
    {
     "data": {
      "text/html": [
       "<div>\n",
       "<style scoped>\n",
       "    .dataframe tbody tr th:only-of-type {\n",
       "        vertical-align: middle;\n",
       "    }\n",
       "\n",
       "    .dataframe tbody tr th {\n",
       "        vertical-align: top;\n",
       "    }\n",
       "\n",
       "    .dataframe thead th {\n",
       "        text-align: right;\n",
       "    }\n",
       "</style>\n",
       "<table border=\"1\" class=\"dataframe\">\n",
       "  <thead>\n",
       "    <tr style=\"text-align: right;\">\n",
       "      <th></th>\n",
       "      <th>Filename</th>\n",
       "      <th>Word</th>\n",
       "      <th>POS</th>\n",
       "      <th>Entity</th>\n",
       "      <th>Class</th>\n",
       "    </tr>\n",
       "  </thead>\n",
       "  <tbody>\n",
       "    <tr>\n",
       "      <th>0</th>\n",
       "      <td>00001.txt</td>\n",
       "      <td>สภาสังคมสงเคราะห์แห่งประเทศ</td>\n",
       "      <td>NN</td>\n",
       "      <td>B_ORG</td>\n",
       "      <td>B_CLS</td>\n",
       "    </tr>\n",
       "    <tr>\n",
       "      <th>1</th>\n",
       "      <td>00001.txt</td>\n",
       "      <td>ไทย</td>\n",
       "      <td>NN</td>\n",
       "      <td>E_ORG</td>\n",
       "      <td>I_CLS</td>\n",
       "    </tr>\n",
       "    <tr>\n",
       "      <th>2</th>\n",
       "      <td>00001.txt</td>\n",
       "      <td>จี้</td>\n",
       "      <td>VV</td>\n",
       "      <td>O</td>\n",
       "      <td>I_CLS</td>\n",
       "    </tr>\n",
       "    <tr>\n",
       "      <th>3</th>\n",
       "      <td>00001.txt</td>\n",
       "      <td>ศาล</td>\n",
       "      <td>NN</td>\n",
       "      <td>O</td>\n",
       "      <td>I_CLS</td>\n",
       "    </tr>\n",
       "    <tr>\n",
       "      <th>4</th>\n",
       "      <td>00001.txt</td>\n",
       "      <td>ไฟเขียว</td>\n",
       "      <td>VV</td>\n",
       "      <td>O</td>\n",
       "      <td>I_CLS</td>\n",
       "    </tr>\n",
       "  </tbody>\n",
       "</table>\n",
       "</div>"
      ],
      "text/plain": [
       "    Filename                         Word POS Entity  Class\n",
       "0  00001.txt  สภาสังคมสงเคราะห์แห่งประเทศ  NN  B_ORG  B_CLS\n",
       "1  00001.txt                          ไทย  NN  E_ORG  I_CLS\n",
       "2  00001.txt                          จี้  VV      O  I_CLS\n",
       "3  00001.txt                          ศาล  NN      O  I_CLS\n",
       "4  00001.txt                      ไฟเขียว  VV      O  I_CLS"
      ]
     },
     "execution_count": 12,
     "metadata": {},
     "output_type": "execute_result"
    }
   ],
   "source": [
    "df_train.head()"
   ]
  },
  {
   "cell_type": "code",
   "execution_count": 13,
   "metadata": {},
   "outputs": [
    {
     "data": {
      "text/html": [
       "<div>\n",
       "<style scoped>\n",
       "    .dataframe tbody tr th:only-of-type {\n",
       "        vertical-align: middle;\n",
       "    }\n",
       "\n",
       "    .dataframe tbody tr th {\n",
       "        vertical-align: top;\n",
       "    }\n",
       "\n",
       "    .dataframe thead th {\n",
       "        text-align: right;\n",
       "    }\n",
       "</style>\n",
       "<table border=\"1\" class=\"dataframe\">\n",
       "  <thead>\n",
       "    <tr style=\"text-align: right;\">\n",
       "      <th></th>\n",
       "      <th>Filename</th>\n",
       "      <th>Word</th>\n",
       "      <th>POS</th>\n",
       "      <th>Entity</th>\n",
       "      <th>Class</th>\n",
       "    </tr>\n",
       "  </thead>\n",
       "  <tbody>\n",
       "    <tr>\n",
       "      <th>0</th>\n",
       "      <td>04278.txt</td>\n",
       "      <td>โฆษก</td>\n",
       "      <td>NN</td>\n",
       "      <td>O</td>\n",
       "      <td>B_CLS</td>\n",
       "    </tr>\n",
       "    <tr>\n",
       "      <th>1</th>\n",
       "      <td>04278.txt</td>\n",
       "      <td>กอส.</td>\n",
       "      <td>NN</td>\n",
       "      <td>B_ORG</td>\n",
       "      <td>I_CLS</td>\n",
       "    </tr>\n",
       "    <tr>\n",
       "      <th>2</th>\n",
       "      <td>04278.txt</td>\n",
       "      <td>ตำหนิ</td>\n",
       "      <td>VV</td>\n",
       "      <td>O</td>\n",
       "      <td>I_CLS</td>\n",
       "    </tr>\n",
       "    <tr>\n",
       "      <th>3</th>\n",
       "      <td>04278.txt</td>\n",
       "      <td>แมนฯ</td>\n",
       "      <td>NN</td>\n",
       "      <td>B_ORG</td>\n",
       "      <td>I_CLS</td>\n",
       "    </tr>\n",
       "    <tr>\n",
       "      <th>4</th>\n",
       "      <td>04278.txt</td>\n",
       "      <td>_</td>\n",
       "      <td>NN</td>\n",
       "      <td>I_ORG</td>\n",
       "      <td>I_CLS</td>\n",
       "    </tr>\n",
       "  </tbody>\n",
       "</table>\n",
       "</div>"
      ],
      "text/plain": [
       "    Filename   Word POS Entity  Class\n",
       "0  04278.txt   โฆษก  NN      O  B_CLS\n",
       "1  04278.txt   กอส.  NN  B_ORG  I_CLS\n",
       "2  04278.txt  ตำหนิ  VV      O  I_CLS\n",
       "3  04278.txt   แมนฯ  NN  B_ORG  I_CLS\n",
       "4  04278.txt      _  NN  I_ORG  I_CLS"
      ]
     },
     "execution_count": 13,
     "metadata": {},
     "output_type": "execute_result"
    }
   ],
   "source": [
    "df_eval.head()"
   ]
  },
  {
   "cell_type": "code",
   "execution_count": 14,
   "metadata": {},
   "outputs": [
    {
     "data": {
      "text/html": [
       "<div>\n",
       "<style scoped>\n",
       "    .dataframe tbody tr th:only-of-type {\n",
       "        vertical-align: middle;\n",
       "    }\n",
       "\n",
       "    .dataframe tbody tr th {\n",
       "        vertical-align: top;\n",
       "    }\n",
       "\n",
       "    .dataframe thead th {\n",
       "        text-align: right;\n",
       "    }\n",
       "</style>\n",
       "<table border=\"1\" class=\"dataframe\">\n",
       "  <thead>\n",
       "    <tr style=\"text-align: right;\">\n",
       "      <th></th>\n",
       "      <th>Filename</th>\n",
       "      <th>Word</th>\n",
       "      <th>Class</th>\n",
       "    </tr>\n",
       "  </thead>\n",
       "  <tbody>\n",
       "  </tbody>\n",
       "</table>\n",
       "</div>"
      ],
      "text/plain": [
       "Empty DataFrame\n",
       "Columns: [Filename, Word, Class]\n",
       "Index: []"
      ]
     },
     "execution_count": 14,
     "metadata": {},
     "output_type": "execute_result"
    }
   ],
   "source": [
    "df_test.head()"
   ]
  },
  {
   "cell_type": "code",
   "execution_count": null,
   "metadata": {},
   "outputs": [],
   "source": []
  }
 ],
 "metadata": {
  "kernelspec": {
   "display_name": "NLP",
   "language": "python",
   "name": "python3"
  },
  "language_info": {
   "codemirror_mode": {
    "name": "ipython",
    "version": 3
   },
   "file_extension": ".py",
   "mimetype": "text/x-python",
   "name": "python",
   "nbconvert_exporter": "python",
   "pygments_lexer": "ipython3",
   "version": "3.11.10"
  }
 },
 "nbformat": 4,
 "nbformat_minor": 2
}
