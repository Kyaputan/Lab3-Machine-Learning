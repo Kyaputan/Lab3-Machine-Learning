{
 "cells": [
  {
   "cell_type": "markdown",
   "metadata": {},
   "source": [
    "# Prepare Data"
   ]
  },
  {
   "cell_type": "markdown",
   "metadata": {},
   "source": [
    "## Load Dataset"
   ]
  },
  {
   "cell_type": "code",
   "execution_count": 1,
   "metadata": {
    "execution": {
     "iopub.execute_input": "2025-01-25T17:57:36.242441Z",
     "iopub.status.busy": "2025-01-25T17:57:36.242151Z",
     "iopub.status.idle": "2025-01-25T17:57:36.609307Z",
     "shell.execute_reply": "2025-01-25T17:57:36.608525Z",
     "shell.execute_reply.started": "2025-01-25T17:57:36.242403Z"
    },
    "trusted": true
   },
   "outputs": [],
   "source": [
    "import os\n",
    "import pandas as pd"
   ]
  },
  {
   "cell_type": "code",
   "execution_count": 2,
   "metadata": {
    "execution": {
     "iopub.execute_input": "2025-01-25T17:57:36.611514Z",
     "iopub.status.busy": "2025-01-25T17:57:36.611195Z",
     "iopub.status.idle": "2025-01-25T17:57:36.618144Z",
     "shell.execute_reply": "2025-01-25T17:57:36.617230Z",
     "shell.execute_reply.started": "2025-01-25T17:57:36.611491Z"
    },
    "trusted": true
   },
   "outputs": [],
   "source": [
    "def Read_txt_Files_as_Dataframes(directory_path):\n",
    "    all_sentences_dfs = []\n",
    "\n",
    "    for filename in sorted(os.listdir(directory_path)):\n",
    "        if filename.endswith(\".txt\"):\n",
    "            file_path = os.path.join(directory_path, filename)\n",
    "\n",
    "            sentences = []\n",
    "            current_sentence = []\n",
    "\n",
    "            with open(file_path, \"r\", encoding=\"utf-8\") as file:\n",
    "                for line in file:\n",
    "                    line = line.strip()\n",
    "\n",
    "                    if not line:\n",
    "                        if current_sentence:\n",
    "                            sentences.append(current_sentence)\n",
    "                            current_sentence = []\n",
    "                    else:\n",
    "                        word_data = line.split(\"\\t\")\n",
    "                        if len(word_data) == 4:\n",
    "                            current_sentence.append(word_data)\n",
    "\n",
    "                if current_sentence:  # In case there's no empty line at the end\n",
    "                    sentences.append(current_sentence)\n",
    "\n",
    "            for sentence in sentences:\n",
    "                df = pd.DataFrame(sentence, columns=[\"Word\", \"POS tag\", \"Named entity\", \"Clause boundary\"])\n",
    "                all_sentences_dfs.append(df)\n",
    "\n",
    "    return all_sentences_dfs"
   ]
  },
  {
   "cell_type": "code",
   "execution_count": 3,
   "metadata": {
    "execution": {
     "iopub.execute_input": "2025-01-25T17:57:36.619577Z",
     "iopub.status.busy": "2025-01-25T17:57:36.619227Z",
     "iopub.status.idle": "2025-01-25T17:58:15.596678Z",
     "shell.execute_reply": "2025-01-25T17:58:15.595672Z",
     "shell.execute_reply.started": "2025-01-25T17:57:36.619547Z"
    },
    "trusted": true
   },
   "outputs": [],
   "source": [
    "directory_path = \"train/train\"\n",
    "\n",
    "dataframes = Read_txt_Files_as_Dataframes(directory_path)\n",
    "\n",
    "eval_directory_path = \"eval/eval\"\n",
    "\n",
    "eval_dataframes = Read_txt_Files_as_Dataframes(eval_directory_path)"
   ]
  },
  {
   "cell_type": "markdown",
   "metadata": {},
   "source": [
    "## Load Tags List"
   ]
  },
  {
   "cell_type": "code",
   "execution_count": 4,
   "metadata": {
    "execution": {
     "iopub.execute_input": "2025-01-25T17:58:15.598260Z",
     "iopub.status.busy": "2025-01-25T17:58:15.597962Z",
     "iopub.status.idle": "2025-01-25T17:58:15.625531Z",
     "shell.execute_reply": "2025-01-25T17:58:15.624634Z",
     "shell.execute_reply.started": "2025-01-25T17:58:15.598230Z"
    },
    "trusted": true
   },
   "outputs": [
    {
     "data": {
      "text/html": [
       "<div>\n",
       "<style scoped>\n",
       "    .dataframe tbody tr th:only-of-type {\n",
       "        vertical-align: middle;\n",
       "    }\n",
       "\n",
       "    .dataframe tbody tr th {\n",
       "        vertical-align: top;\n",
       "    }\n",
       "\n",
       "    .dataframe thead th {\n",
       "        text-align: right;\n",
       "    }\n",
       "</style>\n",
       "<table border=\"1\" class=\"dataframe\">\n",
       "  <thead>\n",
       "    <tr style=\"text-align: right;\">\n",
       "      <th></th>\n",
       "      <th>tag</th>\n",
       "      <th>class</th>\n",
       "    </tr>\n",
       "  </thead>\n",
       "  <tbody>\n",
       "    <tr>\n",
       "      <th>0</th>\n",
       "      <td>O</td>\n",
       "      <td>0</td>\n",
       "    </tr>\n",
       "    <tr>\n",
       "      <th>1</th>\n",
       "      <td>B_ORG</td>\n",
       "      <td>1</td>\n",
       "    </tr>\n",
       "    <tr>\n",
       "      <th>2</th>\n",
       "      <td>B_PER</td>\n",
       "      <td>2</td>\n",
       "    </tr>\n",
       "    <tr>\n",
       "      <th>3</th>\n",
       "      <td>B_LOC</td>\n",
       "      <td>3</td>\n",
       "    </tr>\n",
       "    <tr>\n",
       "      <th>4</th>\n",
       "      <td>B_MEA</td>\n",
       "      <td>4</td>\n",
       "    </tr>\n",
       "    <tr>\n",
       "      <th>5</th>\n",
       "      <td>I_DTM</td>\n",
       "      <td>5</td>\n",
       "    </tr>\n",
       "    <tr>\n",
       "      <th>6</th>\n",
       "      <td>I_ORG</td>\n",
       "      <td>6</td>\n",
       "    </tr>\n",
       "    <tr>\n",
       "      <th>7</th>\n",
       "      <td>E_ORG</td>\n",
       "      <td>7</td>\n",
       "    </tr>\n",
       "    <tr>\n",
       "      <th>8</th>\n",
       "      <td>I_PER</td>\n",
       "      <td>8</td>\n",
       "    </tr>\n",
       "    <tr>\n",
       "      <th>9</th>\n",
       "      <td>B_TTL</td>\n",
       "      <td>9</td>\n",
       "    </tr>\n",
       "    <tr>\n",
       "      <th>10</th>\n",
       "      <td>E_PER</td>\n",
       "      <td>10</td>\n",
       "    </tr>\n",
       "    <tr>\n",
       "      <th>11</th>\n",
       "      <td>B_DES</td>\n",
       "      <td>11</td>\n",
       "    </tr>\n",
       "    <tr>\n",
       "      <th>12</th>\n",
       "      <td>E_LOC</td>\n",
       "      <td>12</td>\n",
       "    </tr>\n",
       "    <tr>\n",
       "      <th>13</th>\n",
       "      <td>B_DTM</td>\n",
       "      <td>13</td>\n",
       "    </tr>\n",
       "    <tr>\n",
       "      <th>14</th>\n",
       "      <td>B_NUM</td>\n",
       "      <td>14</td>\n",
       "    </tr>\n",
       "    <tr>\n",
       "      <th>15</th>\n",
       "      <td>I_MEA</td>\n",
       "      <td>15</td>\n",
       "    </tr>\n",
       "    <tr>\n",
       "      <th>16</th>\n",
       "      <td>E_DTM</td>\n",
       "      <td>16</td>\n",
       "    </tr>\n",
       "    <tr>\n",
       "      <th>17</th>\n",
       "      <td>E_MEA</td>\n",
       "      <td>17</td>\n",
       "    </tr>\n",
       "    <tr>\n",
       "      <th>18</th>\n",
       "      <td>I_LOC</td>\n",
       "      <td>18</td>\n",
       "    </tr>\n",
       "    <tr>\n",
       "      <th>19</th>\n",
       "      <td>I_DES</td>\n",
       "      <td>19</td>\n",
       "    </tr>\n",
       "    <tr>\n",
       "      <th>20</th>\n",
       "      <td>E_DES</td>\n",
       "      <td>20</td>\n",
       "    </tr>\n",
       "    <tr>\n",
       "      <th>21</th>\n",
       "      <td>I_NUM</td>\n",
       "      <td>21</td>\n",
       "    </tr>\n",
       "    <tr>\n",
       "      <th>22</th>\n",
       "      <td>E_NUM</td>\n",
       "      <td>22</td>\n",
       "    </tr>\n",
       "    <tr>\n",
       "      <th>23</th>\n",
       "      <td>B_TRM</td>\n",
       "      <td>23</td>\n",
       "    </tr>\n",
       "    <tr>\n",
       "      <th>24</th>\n",
       "      <td>B_BRN</td>\n",
       "      <td>24</td>\n",
       "    </tr>\n",
       "    <tr>\n",
       "      <th>25</th>\n",
       "      <td>I_TRM</td>\n",
       "      <td>25</td>\n",
       "    </tr>\n",
       "    <tr>\n",
       "      <th>26</th>\n",
       "      <td>E_TRM</td>\n",
       "      <td>26</td>\n",
       "    </tr>\n",
       "    <tr>\n",
       "      <th>27</th>\n",
       "      <td>I_TTL</td>\n",
       "      <td>27</td>\n",
       "    </tr>\n",
       "    <tr>\n",
       "      <th>28</th>\n",
       "      <td>I_BRN</td>\n",
       "      <td>28</td>\n",
       "    </tr>\n",
       "    <tr>\n",
       "      <th>29</th>\n",
       "      <td>E_BRN</td>\n",
       "      <td>29</td>\n",
       "    </tr>\n",
       "    <tr>\n",
       "      <th>30</th>\n",
       "      <td>E_TTL</td>\n",
       "      <td>30</td>\n",
       "    </tr>\n",
       "    <tr>\n",
       "      <th>31</th>\n",
       "      <td>B_NAME</td>\n",
       "      <td>31</td>\n",
       "    </tr>\n",
       "  </tbody>\n",
       "</table>\n",
       "</div>"
      ],
      "text/plain": [
       "       tag  class\n",
       "0        O      0\n",
       "1    B_ORG      1\n",
       "2    B_PER      2\n",
       "3    B_LOC      3\n",
       "4    B_MEA      4\n",
       "5    I_DTM      5\n",
       "6    I_ORG      6\n",
       "7    E_ORG      7\n",
       "8    I_PER      8\n",
       "9    B_TTL      9\n",
       "10   E_PER     10\n",
       "11   B_DES     11\n",
       "12   E_LOC     12\n",
       "13   B_DTM     13\n",
       "14   B_NUM     14\n",
       "15   I_MEA     15\n",
       "16   E_DTM     16\n",
       "17   E_MEA     17\n",
       "18   I_LOC     18\n",
       "19   I_DES     19\n",
       "20   E_DES     20\n",
       "21   I_NUM     21\n",
       "22   E_NUM     22\n",
       "23   B_TRM     23\n",
       "24   B_BRN     24\n",
       "25   I_TRM     25\n",
       "26   E_TRM     26\n",
       "27   I_TTL     27\n",
       "28   I_BRN     28\n",
       "29   E_BRN     29\n",
       "30   E_TTL     30\n",
       "31  B_NAME     31"
      ]
     },
     "execution_count": 4,
     "metadata": {},
     "output_type": "execute_result"
    }
   ],
   "source": [
    "file_path = \"tag_list.csv\"\n",
    "\n",
    "tags_df = pd.read_csv(file_path)\n",
    "tags_df"
   ]
  },
  {
   "cell_type": "code",
   "execution_count": 5,
   "metadata": {
    "execution": {
     "iopub.execute_input": "2025-01-25T17:58:15.627066Z",
     "iopub.status.busy": "2025-01-25T17:58:15.626697Z",
     "iopub.status.idle": "2025-01-25T17:58:15.632758Z",
     "shell.execute_reply": "2025-01-25T17:58:15.631879Z",
     "shell.execute_reply.started": "2025-01-25T17:58:15.627041Z"
    },
    "trusted": true
   },
   "outputs": [
    {
     "data": {
      "text/plain": [
       "['O',\n",
       " 'B_ORG',\n",
       " 'B_PER',\n",
       " 'B_LOC',\n",
       " 'B_MEA',\n",
       " 'I_DTM',\n",
       " 'I_ORG',\n",
       " 'E_ORG',\n",
       " 'I_PER',\n",
       " 'B_TTL',\n",
       " 'E_PER',\n",
       " 'B_DES',\n",
       " 'E_LOC',\n",
       " 'B_DTM',\n",
       " 'B_NUM',\n",
       " 'I_MEA',\n",
       " 'E_DTM',\n",
       " 'E_MEA',\n",
       " 'I_LOC',\n",
       " 'I_DES',\n",
       " 'E_DES',\n",
       " 'I_NUM',\n",
       " 'E_NUM',\n",
       " 'B_TRM',\n",
       " 'B_BRN',\n",
       " 'I_TRM',\n",
       " 'E_TRM',\n",
       " 'I_TTL',\n",
       " 'I_BRN',\n",
       " 'E_BRN',\n",
       " 'E_TTL',\n",
       " 'B_NAME']"
      ]
     },
     "execution_count": 5,
     "metadata": {},
     "output_type": "execute_result"
    }
   ],
   "source": [
    "label_list = tags_df[\"tag\"].tolist()\n",
    "label_list"
   ]
  },
  {
   "cell_type": "markdown",
   "metadata": {},
   "source": [
    "## Clean Data"
   ]
  },
  {
   "cell_type": "code",
   "execution_count": 6,
   "metadata": {
    "execution": {
     "iopub.execute_input": "2025-01-25T17:58:15.633952Z",
     "iopub.status.busy": "2025-01-25T17:58:15.633690Z",
     "iopub.status.idle": "2025-01-25T17:58:15.642571Z",
     "shell.execute_reply": "2025-01-25T17:58:15.641823Z",
     "shell.execute_reply.started": "2025-01-25T17:58:15.633926Z"
    },
    "trusted": true
   },
   "outputs": [],
   "source": [
    "def Replace_tags_with_O(dataframes, tags):\n",
    "    \n",
    "    for df in dataframes:\n",
    "        \n",
    "        df[\"Named entity\"] = df[\"Named entity\"].apply(lambda x: \"B_ORG\" if x in tags else x)\n",
    "    \n",
    "    return dataframes"
   ]
  },
  {
   "cell_type": "code",
   "execution_count": 7,
   "metadata": {
    "execution": {
     "iopub.execute_input": "2025-01-25T17:58:15.645088Z",
     "iopub.status.busy": "2025-01-25T17:58:15.644799Z",
     "iopub.status.idle": "2025-01-25T17:58:15.652681Z",
     "shell.execute_reply": "2025-01-25T17:58:15.651899Z",
     "shell.execute_reply.started": "2025-01-25T17:58:15.645069Z"
    },
    "trusted": true
   },
   "outputs": [],
   "source": [
    "tags_only_in_df1 = {'OBRN_B', 'MEA_BI', 'B_D`TM', 'ORG_I', 'I', '__', 'DDEM', 'B', 'PER_I'}\n",
    "tags_only_in_df2 = {'LOC_I', 'ABB', 'B', '__', 'ORG_I'}"
   ]
  },
  {
   "cell_type": "code",
   "execution_count": 8,
   "metadata": {
    "execution": {
     "iopub.execute_input": "2025-01-25T17:58:15.654220Z",
     "iopub.status.busy": "2025-01-25T17:58:15.653854Z",
     "iopub.status.idle": "2025-01-25T17:58:41.141364Z",
     "shell.execute_reply": "2025-01-25T17:58:41.140794Z",
     "shell.execute_reply.started": "2025-01-25T17:58:15.654200Z"
    },
    "trusted": true
   },
   "outputs": [],
   "source": [
    "dataframes = Replace_tags_with_O(dataframes, tags_only_in_df1)\n",
    "eval_dataframes = Replace_tags_with_O(eval_dataframes, tags_only_in_df2)"
   ]
  },
  {
   "cell_type": "markdown",
   "metadata": {},
   "source": [
    "## Merge Data"
   ]
  },
  {
   "cell_type": "code",
   "execution_count": 9,
   "metadata": {
    "execution": {
     "iopub.execute_input": "2025-01-25T17:58:41.142979Z",
     "iopub.status.busy": "2025-01-25T17:58:41.142652Z",
     "iopub.status.idle": "2025-01-25T17:58:41.149058Z",
     "shell.execute_reply": "2025-01-25T17:58:41.147989Z",
     "shell.execute_reply.started": "2025-01-25T17:58:41.142948Z"
    },
    "trusted": true
   },
   "outputs": [],
   "source": [
    "combined_dataframes = dataframes + eval_dataframes"
   ]
  },
  {
   "cell_type": "markdown",
   "metadata": {},
   "source": [
    "## Down-Sampling Data"
   ]
  },
  {
   "cell_type": "code",
   "execution_count": 10,
   "metadata": {
    "execution": {
     "iopub.execute_input": "2025-01-25T17:58:41.150320Z",
     "iopub.status.busy": "2025-01-25T17:58:41.149997Z",
     "iopub.status.idle": "2025-01-25T17:58:41.210450Z",
     "shell.execute_reply": "2025-01-25T17:58:41.209908Z",
     "shell.execute_reply.started": "2025-01-25T17:58:41.150277Z"
    },
    "trusted": true
   },
   "outputs": [],
   "source": [
    "filtered_dataframes = [df for df in combined_dataframes if len(df) < 80]"
   ]
  },
  {
   "cell_type": "code",
   "execution_count": 11,
   "metadata": {
    "execution": {
     "iopub.execute_input": "2025-01-25T17:58:41.211539Z",
     "iopub.status.busy": "2025-01-25T17:58:41.211320Z",
     "iopub.status.idle": "2025-01-25T17:58:41.216547Z",
     "shell.execute_reply": "2025-01-25T17:58:41.215598Z",
     "shell.execute_reply.started": "2025-01-25T17:58:41.211517Z"
    },
    "trusted": true
   },
   "outputs": [
    {
     "data": {
      "text/plain": [
       "60491"
      ]
     },
     "execution_count": 11,
     "metadata": {},
     "output_type": "execute_result"
    }
   ],
   "source": [
    "len(filtered_dataframes)"
   ]
  },
  {
   "cell_type": "code",
   "execution_count": 12,
   "metadata": {
    "execution": {
     "iopub.execute_input": "2025-01-25T17:58:41.217627Z",
     "iopub.status.busy": "2025-01-25T17:58:41.217408Z",
     "iopub.status.idle": "2025-01-25T17:58:41.227834Z",
     "shell.execute_reply": "2025-01-25T17:58:41.227180Z",
     "shell.execute_reply.started": "2025-01-25T17:58:41.217609Z"
    },
    "trusted": true
   },
   "outputs": [],
   "source": [
    "# df = combined_dataframes[:10000]\n",
    "df = combined_dataframes"
   ]
  },
  {
   "cell_type": "markdown",
   "metadata": {},
   "source": [
    "# CRF Modeling"
   ]
  },
  {
   "cell_type": "markdown",
   "metadata": {},
   "source": [
    "## Data Preprocessing"
   ]
  },
  {
   "cell_type": "code",
   "execution_count": 13,
   "metadata": {
    "execution": {
     "iopub.execute_input": "2025-01-25T17:58:41.228850Z",
     "iopub.status.busy": "2025-01-25T17:58:41.228634Z",
     "iopub.status.idle": "2025-01-25T17:58:41.237122Z",
     "shell.execute_reply": "2025-01-25T17:58:41.236404Z",
     "shell.execute_reply.started": "2025-01-25T17:58:41.228822Z"
    },
    "trusted": true
   },
   "outputs": [],
   "source": [
    "def extract_features(sentence_df):\n",
    "    features = []\n",
    "    for i in range(len(sentence_df)):\n",
    "        word = sentence_df.iloc[i][\"Word\"]\n",
    "        pos_tag = sentence_df.iloc[i][\"POS tag\"]\n",
    "        clause_boundary = sentence_df.iloc[i][\"Clause boundary\"]\n",
    "\n",
    "        # Define Features for each Token\n",
    "        token_features = {\n",
    "            \"word\": word,\n",
    "            \"pos_tag\": pos_tag,\n",
    "            \"clause_boundary\": clause_boundary,\n",
    "            \"is_first_word\": i == 0,\n",
    "            \"is_last_word\": i == len(sentence_df) - 1,\n",
    "            \"prefix-1\": word[0],\n",
    "            \"prefix-2\": word[:2],\n",
    "            \"suffix-1\": word[-1],\n",
    "            \"suffix-2\": word[-2:],\n",
    "            \"prev_word\": '' if i == 0 else sentence_df.iloc[i - 1][\"Word\"],\n",
    "            \"next_word\": '' if i == len(sentence_df) - 1 else sentence_df.iloc[i + 1][\"Word\"],\n",
    "            \"prev_pos\": '' if i == 0 else sentence_df.iloc[i - 1][\"POS tag\"],\n",
    "            \"next_pos\": '' if i == len(sentence_df) - 1 else sentence_df.iloc[i + 1][\"POS tag\"],\n",
    "        }\n",
    "        \n",
    "        features.append(token_features)\n",
    "    return features"
   ]
  },
  {
   "cell_type": "code",
   "execution_count": 14,
   "metadata": {
    "execution": {
     "iopub.execute_input": "2025-01-25T17:58:41.238751Z",
     "iopub.status.busy": "2025-01-25T17:58:41.238239Z",
     "iopub.status.idle": "2025-01-25T17:58:41.244893Z",
     "shell.execute_reply": "2025-01-25T17:58:41.244283Z",
     "shell.execute_reply.started": "2025-01-25T17:58:41.238730Z"
    },
    "trusted": true
   },
   "outputs": [],
   "source": [
    "def preprocess_data(dataframes, has_labels=True):\n",
    "    X = []\n",
    "    y = []\n",
    "\n",
    "    for df in dataframes:\n",
    "        \n",
    "        sentence_features = extract_features(df)\n",
    "        X.append(sentence_features)\n",
    "\n",
    "        if has_labels and \"Named entity\" in df.columns:\n",
    "            sentence_labels = df[\"Named entity\"].tolist()\n",
    "            y.append(sentence_labels)\n",
    "        else:\n",
    "            y.append([])\n",
    "\n",
    "    return X, y"
   ]
  },
  {
   "cell_type": "code",
   "execution_count": 15,
   "metadata": {
    "execution": {
     "iopub.execute_input": "2025-01-25T17:58:41.246573Z",
     "iopub.status.busy": "2025-01-25T17:58:41.245923Z",
     "iopub.status.idle": "2025-01-25T18:11:26.125283Z",
     "shell.execute_reply": "2025-01-25T18:11:26.124603Z",
     "shell.execute_reply.started": "2025-01-25T17:58:41.246522Z"
    },
    "trusted": true
   },
   "outputs": [],
   "source": [
    "X, y = preprocess_data(df)"
   ]
  },
  {
   "cell_type": "code",
   "execution_count": 16,
   "metadata": {
    "execution": {
     "iopub.execute_input": "2025-01-25T18:11:26.130209Z",
     "iopub.status.busy": "2025-01-25T18:11:26.129971Z",
     "iopub.status.idle": "2025-01-25T18:11:26.134883Z",
     "shell.execute_reply": "2025-01-25T18:11:26.134076Z",
     "shell.execute_reply.started": "2025-01-25T18:11:26.130181Z"
    },
    "trusted": true
   },
   "outputs": [
    {
     "name": "stdout",
     "output_type": "stream",
     "text": [
      "Features for the First Sentence:\n",
      "[{'word': 'สภาสังคมสงเคราะห์แห่งประเทศ', 'pos_tag': 'NN', 'clause_boundary': 'B_CLS', 'is_first_word': True, 'is_last_word': False, 'prefix-1': 'ส', 'prefix-2': 'สภ', 'suffix-1': 'ศ', 'suffix-2': 'ทศ', 'prev_word': '', 'next_word': 'ไทย', 'prev_pos': '', 'next_pos': 'NN'}, {'word': 'ไทย', 'pos_tag': 'NN', 'clause_boundary': 'I_CLS', 'is_first_word': False, 'is_last_word': False, 'prefix-1': 'ไ', 'prefix-2': 'ไท', 'suffix-1': 'ย', 'suffix-2': 'ทย', 'prev_word': 'สภาสังคมสงเคราะห์แห่งประเทศ', 'next_word': 'จี้', 'prev_pos': 'NN', 'next_pos': 'VV'}, {'word': 'จี้', 'pos_tag': 'VV', 'clause_boundary': 'I_CLS', 'is_first_word': False, 'is_last_word': False, 'prefix-1': 'จ', 'prefix-2': 'จี', 'suffix-1': '้', 'suffix-2': 'ี้', 'prev_word': 'ไทย', 'next_word': 'ศาล', 'prev_pos': 'NN', 'next_pos': 'NN'}, {'word': 'ศาล', 'pos_tag': 'NN', 'clause_boundary': 'I_CLS', 'is_first_word': False, 'is_last_word': False, 'prefix-1': 'ศ', 'prefix-2': 'ศา', 'suffix-1': 'ล', 'suffix-2': 'าล', 'prev_word': 'จี้', 'next_word': 'ไฟเขียว', 'prev_pos': 'VV', 'next_pos': 'VV'}, {'word': 'ไฟเขียว', 'pos_tag': 'VV', 'clause_boundary': 'I_CLS', 'is_first_word': False, 'is_last_word': False, 'prefix-1': 'ไ', 'prefix-2': 'ไฟ', 'suffix-1': 'ว', 'suffix-2': 'ยว', 'prev_word': 'ศาล', 'next_word': 'ขาย', 'prev_pos': 'NN', 'next_pos': 'VV'}, {'word': 'ขาย', 'pos_tag': 'VV', 'clause_boundary': 'I_CLS', 'is_first_word': False, 'is_last_word': False, 'prefix-1': 'ข', 'prefix-2': 'ขา', 'suffix-1': 'ย', 'suffix-2': 'าย', 'prev_word': 'ไฟเขียว', 'next_word': 'สินทรัพย์', 'prev_pos': 'VV', 'next_pos': 'NN'}, {'word': 'สินทรัพย์', 'pos_tag': 'NN', 'clause_boundary': 'I_CLS', 'is_first_word': False, 'is_last_word': False, 'prefix-1': 'ส', 'prefix-2': 'สิ', 'suffix-1': '์', 'suffix-2': 'ย์', 'prev_word': 'ขาย', 'next_word': 'ปู', 'prev_pos': 'VV', 'next_pos': 'VV'}, {'word': 'ปู', 'pos_tag': 'VV', 'clause_boundary': 'I_CLS', 'is_first_word': False, 'is_last_word': False, 'prefix-1': 'ป', 'prefix-2': 'ปู', 'suffix-1': 'ู', 'suffix-2': 'ปู', 'prev_word': 'สินทรัพย์', 'next_word': 'ทาง', 'prev_pos': 'NN', 'next_pos': 'NN'}, {'word': 'ทาง', 'pos_tag': 'NN', 'clause_boundary': 'I_CLS', 'is_first_word': False, 'is_last_word': False, 'prefix-1': 'ท', 'prefix-2': 'ทา', 'suffix-1': 'ง', 'suffix-2': 'าง', 'prev_word': 'ปู', 'next_word': 'ปรับ', 'prev_pos': 'VV', 'next_pos': 'VV'}, {'word': 'ปรับ', 'pos_tag': 'VV', 'clause_boundary': 'I_CLS', 'is_first_word': False, 'is_last_word': False, 'prefix-1': 'ป', 'prefix-2': 'ปร', 'suffix-1': 'บ', 'suffix-2': 'ับ', 'prev_word': 'ทาง', 'next_word': 'โครงสร้าง', 'prev_pos': 'NN', 'next_pos': 'NN'}, {'word': 'โครงสร้าง', 'pos_tag': 'NN', 'clause_boundary': 'E_CLS', 'is_first_word': False, 'is_last_word': True, 'prefix-1': 'โ', 'prefix-2': 'โค', 'suffix-1': 'ง', 'suffix-2': 'าง', 'prev_word': 'ปรับ', 'next_word': '', 'prev_pos': 'VV', 'next_pos': ''}]\n",
      "\n",
      "Labels for the First Sentence:\n",
      "['B_ORG', 'E_ORG', 'O', 'O', 'O', 'O', 'O', 'O', 'O', 'O', 'O']\n"
     ]
    }
   ],
   "source": [
    "print(\"Features for the First Sentence:\")\n",
    "print(X[0])\n",
    "print(\"\\nLabels for the First Sentence:\")\n",
    "print(y[0])"
   ]
  },
  {
   "cell_type": "markdown",
   "metadata": {},
   "source": [
    "## Split Data"
   ]
  },
  {
   "cell_type": "code",
   "execution_count": 17,
   "metadata": {
    "execution": {
     "iopub.execute_input": "2025-01-25T18:24:33.988513Z",
     "iopub.status.busy": "2025-01-25T18:24:33.987613Z",
     "iopub.status.idle": "2025-01-25T18:24:33.992711Z",
     "shell.execute_reply": "2025-01-25T18:24:33.991655Z",
     "shell.execute_reply.started": "2025-01-25T18:24:33.988473Z"
    },
    "trusted": true
   },
   "outputs": [],
   "source": [
    "import numpy as np\n",
    "from sklearn.model_selection import train_test_split"
   ]
  },
  {
   "cell_type": "code",
   "execution_count": 18,
   "metadata": {
    "execution": {
     "iopub.execute_input": "2025-01-25T18:24:35.250584Z",
     "iopub.status.busy": "2025-01-25T18:24:35.249780Z",
     "iopub.status.idle": "2025-01-25T18:24:35.392573Z",
     "shell.execute_reply": "2025-01-25T18:24:35.391911Z",
     "shell.execute_reply.started": "2025-01-25T18:24:35.250555Z"
    },
    "trusted": true
   },
   "outputs": [],
   "source": [
    "X_train, X_test, y_train, y_test = train_test_split(X, y, test_size=0.2, random_state=42)"
   ]
  },
  {
   "cell_type": "markdown",
   "metadata": {},
   "source": [
    "## Initialize CRF Model"
   ]
  },
  {
   "cell_type": "code",
   "execution_count": 19,
   "metadata": {
    "execution": {
     "iopub.execute_input": "2025-01-25T18:24:46.250203Z",
     "iopub.status.busy": "2025-01-25T18:24:46.249931Z",
     "iopub.status.idle": "2025-01-25T18:24:46.284959Z",
     "shell.execute_reply": "2025-01-25T18:24:46.284342Z",
     "shell.execute_reply.started": "2025-01-25T18:24:46.250180Z"
    },
    "trusted": true
   },
   "outputs": [],
   "source": [
    "import sklearn_crfsuite"
   ]
  },
  {
   "cell_type": "code",
   "execution_count": 20,
   "metadata": {
    "execution": {
     "iopub.execute_input": "2025-01-25T18:24:46.286046Z",
     "iopub.status.busy": "2025-01-25T18:24:46.285766Z",
     "iopub.status.idle": "2025-01-25T18:24:46.290025Z",
     "shell.execute_reply": "2025-01-25T18:24:46.289261Z",
     "shell.execute_reply.started": "2025-01-25T18:24:46.286024Z"
    },
    "trusted": true
   },
   "outputs": [],
   "source": [
    "crf = sklearn_crfsuite.CRF(\n",
    "    algorithm=\"lbfgs\",\n",
    "    c1=0.11,\n",
    "    c2=0.01,\n",
    "    max_iterations=40,\n",
    "    all_possible_transitions=True,\n",
    "    verbose=True\n",
    ")"
   ]
  },
  {
   "cell_type": "code",
   "execution_count": 25,
   "metadata": {
    "execution": {
     "iopub.execute_input": "2025-01-25T18:24:49.117517Z",
     "iopub.status.busy": "2025-01-25T18:24:49.116740Z",
     "iopub.status.idle": "2025-01-25T18:24:49.120981Z",
     "shell.execute_reply": "2025-01-25T18:24:49.120178Z",
     "shell.execute_reply.started": "2025-01-25T18:24:49.117487Z"
    },
    "trusted": true
   },
   "outputs": [],
   "source": [
    "import time\n",
    "start_time = time.time()"
   ]
  },
  {
   "cell_type": "code",
   "execution_count": 26,
   "metadata": {
    "execution": {
     "iopub.execute_input": "2025-01-25T18:24:50.232734Z",
     "iopub.status.busy": "2025-01-25T18:24:50.232134Z",
     "iopub.status.idle": "2025-01-25T18:40:24.925343Z",
     "shell.execute_reply": "2025-01-25T18:40:24.924463Z",
     "shell.execute_reply.started": "2025-01-25T18:24:50.232707Z"
    },
    "trusted": true
   },
   "outputs": [
    {
     "name": "stderr",
     "output_type": "stream",
     "text": [
      "loading training data to CRFsuite: 100%|██████████| 55144/55144 [00:15<00:00, 3597.23it/s]\n"
     ]
    },
    {
     "name": "stdout",
     "output_type": "stream",
     "text": [
      "\n",
      "Feature generation\n",
      "type: CRF1d\n",
      "feature.minfreq: 0.000000\n",
      "feature.possible_states: 0\n",
      "feature.possible_transitions: 1\n",
      "0....1....2....3....4....5....6....7....8....9....10\n",
      "Number of features: 137137\n",
      "Seconds required: 4.130\n",
      "\n",
      "L-BFGS optimization\n",
      "c1: 0.110000\n",
      "c2: 0.010000\n",
      "num_memories: 6\n",
      "max_iterations: 40\n",
      "epsilon: 0.000010\n",
      "stop: 10\n",
      "delta: 0.000010\n",
      "linesearch: MoreThuente\n",
      "linesearch.max_iterations: 20\n",
      "\n",
      "Iter 1   time=11.83 loss=5668508.47 active=136152 feature_norm=1.00\n",
      "Iter 2   time=15.49 loss=5223839.06 active=134931 feature_norm=6.40\n",
      "Iter 3   time=4.98  loss=3961273.53 active=127324 feature_norm=5.26\n",
      "Iter 4   time=35.80 loss=2128881.67 active=131394 feature_norm=3.40\n",
      "Iter 5   time=4.89  loss=2127773.46 active=135153 feature_norm=4.21\n",
      "Iter 6   time=4.83  loss=1861110.38 active=136202 feature_norm=4.41\n",
      "Iter 7   time=4.92  loss=1733323.31 active=135318 feature_norm=5.44\n",
      "Iter 8   time=5.19  loss=1556468.55 active=136097 feature_norm=5.80\n",
      "Iter 9   time=5.50  loss=1428536.72 active=134997 feature_norm=6.81\n",
      "Iter 10  time=4.93  loss=1296179.41 active=131991 feature_norm=8.51\n",
      "Iter 11  time=5.19  loss=1143084.13 active=131728 feature_norm=9.74\n",
      "Iter 12  time=4.55  loss=983392.27 active=129854 feature_norm=11.91\n",
      "Iter 13  time=5.07  loss=815168.29 active=122827 feature_norm=15.97\n",
      "Iter 14  time=5.20  loss=677408.03 active=121432 feature_norm=18.32\n",
      "Iter 15  time=5.13  loss=623470.08 active=120656 feature_norm=19.84\n",
      "Iter 16  time=5.95  loss=571584.89 active=119449 feature_norm=21.09\n",
      "Iter 17  time=5.16  loss=515325.11 active=117580 feature_norm=23.92\n",
      "Iter 18  time=5.48  loss=497491.74 active=116611 feature_norm=26.16\n",
      "Iter 19  time=5.16  loss=466093.92 active=116907 feature_norm=27.65\n",
      "Iter 20  time=5.19  loss=450884.94 active=116667 feature_norm=28.80\n",
      "Iter 21  time=5.04  loss=405708.95 active=113335 feature_norm=36.42\n",
      "Iter 22  time=5.17  loss=388083.58 active=112671 feature_norm=41.32\n",
      "Iter 23  time=5.09  loss=361758.50 active=113732 feature_norm=42.61\n",
      "Iter 24  time=5.09  loss=350308.65 active=113400 feature_norm=44.30\n",
      "Iter 25  time=5.02  loss=325295.14 active=111861 feature_norm=48.84\n",
      "Iter 26  time=15.21 loss=324554.94 active=111060 feature_norm=54.53\n",
      "Iter 27  time=5.04  loss=292115.22 active=111590 feature_norm=57.17\n",
      "Iter 28  time=5.41  loss=282985.87 active=111388 feature_norm=59.15\n",
      "Iter 29  time=5.14  loss=266173.82 active=109892 feature_norm=63.55\n",
      "Iter 30  time=4.81  loss=253615.98 active=109423 feature_norm=67.52\n",
      "Iter 31  time=5.22  loss=239780.18 active=108374 feature_norm=72.88\n",
      "Iter 32  time=5.05  loss=218362.26 active=105934 feature_norm=87.61\n",
      "Iter 33  time=4.85  loss=214514.53 active=104847 feature_norm=100.58\n",
      "Iter 34  time=5.32  loss=196670.45 active=105435 feature_norm=105.01\n",
      "Iter 35  time=5.20  loss=187860.98 active=105082 feature_norm=111.70\n",
      "Iter 36  time=5.25  loss=173145.72 active=103785 feature_norm=129.89\n",
      "Iter 37  time=11.14 loss=168480.71 active=103430 feature_norm=139.45\n",
      "Iter 38  time=5.13  loss=157225.57 active=103379 feature_norm=149.44\n",
      "Iter 39  time=5.24  loss=148558.56 active=102292 feature_norm=162.95\n",
      "Iter 40  time=4.84  loss=137369.18 active=101337 feature_norm=185.43\n",
      "L-BFGS terminated with the maximum number of iterations\n",
      "Total seconds required for training: 268.706\n",
      "\n",
      "Storing the model\n",
      "Number of active features: 101337 (137137)\n",
      "Number of active attributes: 52270 (84976)\n",
      "Number of active labels: 32 (32)\n",
      "Writing labels\n",
      "Writing attributes\n",
      "Writing feature references for transitions\n",
      "Writing feature references for attributes\n",
      "Seconds required: 0.058\n",
      "\n"
     ]
    },
    {
     "data": {
      "text/html": [
       "<style>#sk-container-id-1 {\n",
       "  /* Definition of color scheme common for light and dark mode */\n",
       "  --sklearn-color-text: black;\n",
       "  --sklearn-color-line: gray;\n",
       "  /* Definition of color scheme for unfitted estimators */\n",
       "  --sklearn-color-unfitted-level-0: #fff5e6;\n",
       "  --sklearn-color-unfitted-level-1: #f6e4d2;\n",
       "  --sklearn-color-unfitted-level-2: #ffe0b3;\n",
       "  --sklearn-color-unfitted-level-3: chocolate;\n",
       "  /* Definition of color scheme for fitted estimators */\n",
       "  --sklearn-color-fitted-level-0: #f0f8ff;\n",
       "  --sklearn-color-fitted-level-1: #d4ebff;\n",
       "  --sklearn-color-fitted-level-2: #b3dbfd;\n",
       "  --sklearn-color-fitted-level-3: cornflowerblue;\n",
       "\n",
       "  /* Specific color for light theme */\n",
       "  --sklearn-color-text-on-default-background: var(--sg-text-color, var(--theme-code-foreground, var(--jp-content-font-color1, black)));\n",
       "  --sklearn-color-background: var(--sg-background-color, var(--theme-background, var(--jp-layout-color0, white)));\n",
       "  --sklearn-color-border-box: var(--sg-text-color, var(--theme-code-foreground, var(--jp-content-font-color1, black)));\n",
       "  --sklearn-color-icon: #696969;\n",
       "\n",
       "  @media (prefers-color-scheme: dark) {\n",
       "    /* Redefinition of color scheme for dark theme */\n",
       "    --sklearn-color-text-on-default-background: var(--sg-text-color, var(--theme-code-foreground, var(--jp-content-font-color1, white)));\n",
       "    --sklearn-color-background: var(--sg-background-color, var(--theme-background, var(--jp-layout-color0, #111)));\n",
       "    --sklearn-color-border-box: var(--sg-text-color, var(--theme-code-foreground, var(--jp-content-font-color1, white)));\n",
       "    --sklearn-color-icon: #878787;\n",
       "  }\n",
       "}\n",
       "\n",
       "#sk-container-id-1 {\n",
       "  color: var(--sklearn-color-text);\n",
       "}\n",
       "\n",
       "#sk-container-id-1 pre {\n",
       "  padding: 0;\n",
       "}\n",
       "\n",
       "#sk-container-id-1 input.sk-hidden--visually {\n",
       "  border: 0;\n",
       "  clip: rect(1px 1px 1px 1px);\n",
       "  clip: rect(1px, 1px, 1px, 1px);\n",
       "  height: 1px;\n",
       "  margin: -1px;\n",
       "  overflow: hidden;\n",
       "  padding: 0;\n",
       "  position: absolute;\n",
       "  width: 1px;\n",
       "}\n",
       "\n",
       "#sk-container-id-1 div.sk-dashed-wrapped {\n",
       "  border: 1px dashed var(--sklearn-color-line);\n",
       "  margin: 0 0.4em 0.5em 0.4em;\n",
       "  box-sizing: border-box;\n",
       "  padding-bottom: 0.4em;\n",
       "  background-color: var(--sklearn-color-background);\n",
       "}\n",
       "\n",
       "#sk-container-id-1 div.sk-container {\n",
       "  /* jupyter's `normalize.less` sets `[hidden] { display: none; }`\n",
       "     but bootstrap.min.css set `[hidden] { display: none !important; }`\n",
       "     so we also need the `!important` here to be able to override the\n",
       "     default hidden behavior on the sphinx rendered scikit-learn.org.\n",
       "     See: https://github.com/scikit-learn/scikit-learn/issues/21755 */\n",
       "  display: inline-block !important;\n",
       "  position: relative;\n",
       "}\n",
       "\n",
       "#sk-container-id-1 div.sk-text-repr-fallback {\n",
       "  display: none;\n",
       "}\n",
       "\n",
       "div.sk-parallel-item,\n",
       "div.sk-serial,\n",
       "div.sk-item {\n",
       "  /* draw centered vertical line to link estimators */\n",
       "  background-image: linear-gradient(var(--sklearn-color-text-on-default-background), var(--sklearn-color-text-on-default-background));\n",
       "  background-size: 2px 100%;\n",
       "  background-repeat: no-repeat;\n",
       "  background-position: center center;\n",
       "}\n",
       "\n",
       "/* Parallel-specific style estimator block */\n",
       "\n",
       "#sk-container-id-1 div.sk-parallel-item::after {\n",
       "  content: \"\";\n",
       "  width: 100%;\n",
       "  border-bottom: 2px solid var(--sklearn-color-text-on-default-background);\n",
       "  flex-grow: 1;\n",
       "}\n",
       "\n",
       "#sk-container-id-1 div.sk-parallel {\n",
       "  display: flex;\n",
       "  align-items: stretch;\n",
       "  justify-content: center;\n",
       "  background-color: var(--sklearn-color-background);\n",
       "  position: relative;\n",
       "}\n",
       "\n",
       "#sk-container-id-1 div.sk-parallel-item {\n",
       "  display: flex;\n",
       "  flex-direction: column;\n",
       "}\n",
       "\n",
       "#sk-container-id-1 div.sk-parallel-item:first-child::after {\n",
       "  align-self: flex-end;\n",
       "  width: 50%;\n",
       "}\n",
       "\n",
       "#sk-container-id-1 div.sk-parallel-item:last-child::after {\n",
       "  align-self: flex-start;\n",
       "  width: 50%;\n",
       "}\n",
       "\n",
       "#sk-container-id-1 div.sk-parallel-item:only-child::after {\n",
       "  width: 0;\n",
       "}\n",
       "\n",
       "/* Serial-specific style estimator block */\n",
       "\n",
       "#sk-container-id-1 div.sk-serial {\n",
       "  display: flex;\n",
       "  flex-direction: column;\n",
       "  align-items: center;\n",
       "  background-color: var(--sklearn-color-background);\n",
       "  padding-right: 1em;\n",
       "  padding-left: 1em;\n",
       "}\n",
       "\n",
       "\n",
       "/* Toggleable style: style used for estimator/Pipeline/ColumnTransformer box that is\n",
       "clickable and can be expanded/collapsed.\n",
       "- Pipeline and ColumnTransformer use this feature and define the default style\n",
       "- Estimators will overwrite some part of the style using the `sk-estimator` class\n",
       "*/\n",
       "\n",
       "/* Pipeline and ColumnTransformer style (default) */\n",
       "\n",
       "#sk-container-id-1 div.sk-toggleable {\n",
       "  /* Default theme specific background. It is overwritten whether we have a\n",
       "  specific estimator or a Pipeline/ColumnTransformer */\n",
       "  background-color: var(--sklearn-color-background);\n",
       "}\n",
       "\n",
       "/* Toggleable label */\n",
       "#sk-container-id-1 label.sk-toggleable__label {\n",
       "  cursor: pointer;\n",
       "  display: block;\n",
       "  width: 100%;\n",
       "  margin-bottom: 0;\n",
       "  padding: 0.5em;\n",
       "  box-sizing: border-box;\n",
       "  text-align: center;\n",
       "}\n",
       "\n",
       "#sk-container-id-1 label.sk-toggleable__label-arrow:before {\n",
       "  /* Arrow on the left of the label */\n",
       "  content: \"▸\";\n",
       "  float: left;\n",
       "  margin-right: 0.25em;\n",
       "  color: var(--sklearn-color-icon);\n",
       "}\n",
       "\n",
       "#sk-container-id-1 label.sk-toggleable__label-arrow:hover:before {\n",
       "  color: var(--sklearn-color-text);\n",
       "}\n",
       "\n",
       "/* Toggleable content - dropdown */\n",
       "\n",
       "#sk-container-id-1 div.sk-toggleable__content {\n",
       "  max-height: 0;\n",
       "  max-width: 0;\n",
       "  overflow: hidden;\n",
       "  text-align: left;\n",
       "  /* unfitted */\n",
       "  background-color: var(--sklearn-color-unfitted-level-0);\n",
       "}\n",
       "\n",
       "#sk-container-id-1 div.sk-toggleable__content.fitted {\n",
       "  /* fitted */\n",
       "  background-color: var(--sklearn-color-fitted-level-0);\n",
       "}\n",
       "\n",
       "#sk-container-id-1 div.sk-toggleable__content pre {\n",
       "  margin: 0.2em;\n",
       "  border-radius: 0.25em;\n",
       "  color: var(--sklearn-color-text);\n",
       "  /* unfitted */\n",
       "  background-color: var(--sklearn-color-unfitted-level-0);\n",
       "}\n",
       "\n",
       "#sk-container-id-1 div.sk-toggleable__content.fitted pre {\n",
       "  /* unfitted */\n",
       "  background-color: var(--sklearn-color-fitted-level-0);\n",
       "}\n",
       "\n",
       "#sk-container-id-1 input.sk-toggleable__control:checked~div.sk-toggleable__content {\n",
       "  /* Expand drop-down */\n",
       "  max-height: 200px;\n",
       "  max-width: 100%;\n",
       "  overflow: auto;\n",
       "}\n",
       "\n",
       "#sk-container-id-1 input.sk-toggleable__control:checked~label.sk-toggleable__label-arrow:before {\n",
       "  content: \"▾\";\n",
       "}\n",
       "\n",
       "/* Pipeline/ColumnTransformer-specific style */\n",
       "\n",
       "#sk-container-id-1 div.sk-label input.sk-toggleable__control:checked~label.sk-toggleable__label {\n",
       "  color: var(--sklearn-color-text);\n",
       "  background-color: var(--sklearn-color-unfitted-level-2);\n",
       "}\n",
       "\n",
       "#sk-container-id-1 div.sk-label.fitted input.sk-toggleable__control:checked~label.sk-toggleable__label {\n",
       "  background-color: var(--sklearn-color-fitted-level-2);\n",
       "}\n",
       "\n",
       "/* Estimator-specific style */\n",
       "\n",
       "/* Colorize estimator box */\n",
       "#sk-container-id-1 div.sk-estimator input.sk-toggleable__control:checked~label.sk-toggleable__label {\n",
       "  /* unfitted */\n",
       "  background-color: var(--sklearn-color-unfitted-level-2);\n",
       "}\n",
       "\n",
       "#sk-container-id-1 div.sk-estimator.fitted input.sk-toggleable__control:checked~label.sk-toggleable__label {\n",
       "  /* fitted */\n",
       "  background-color: var(--sklearn-color-fitted-level-2);\n",
       "}\n",
       "\n",
       "#sk-container-id-1 div.sk-label label.sk-toggleable__label,\n",
       "#sk-container-id-1 div.sk-label label {\n",
       "  /* The background is the default theme color */\n",
       "  color: var(--sklearn-color-text-on-default-background);\n",
       "}\n",
       "\n",
       "/* On hover, darken the color of the background */\n",
       "#sk-container-id-1 div.sk-label:hover label.sk-toggleable__label {\n",
       "  color: var(--sklearn-color-text);\n",
       "  background-color: var(--sklearn-color-unfitted-level-2);\n",
       "}\n",
       "\n",
       "/* Label box, darken color on hover, fitted */\n",
       "#sk-container-id-1 div.sk-label.fitted:hover label.sk-toggleable__label.fitted {\n",
       "  color: var(--sklearn-color-text);\n",
       "  background-color: var(--sklearn-color-fitted-level-2);\n",
       "}\n",
       "\n",
       "/* Estimator label */\n",
       "\n",
       "#sk-container-id-1 div.sk-label label {\n",
       "  font-family: monospace;\n",
       "  font-weight: bold;\n",
       "  display: inline-block;\n",
       "  line-height: 1.2em;\n",
       "}\n",
       "\n",
       "#sk-container-id-1 div.sk-label-container {\n",
       "  text-align: center;\n",
       "}\n",
       "\n",
       "/* Estimator-specific */\n",
       "#sk-container-id-1 div.sk-estimator {\n",
       "  font-family: monospace;\n",
       "  border: 1px dotted var(--sklearn-color-border-box);\n",
       "  border-radius: 0.25em;\n",
       "  box-sizing: border-box;\n",
       "  margin-bottom: 0.5em;\n",
       "  /* unfitted */\n",
       "  background-color: var(--sklearn-color-unfitted-level-0);\n",
       "}\n",
       "\n",
       "#sk-container-id-1 div.sk-estimator.fitted {\n",
       "  /* fitted */\n",
       "  background-color: var(--sklearn-color-fitted-level-0);\n",
       "}\n",
       "\n",
       "/* on hover */\n",
       "#sk-container-id-1 div.sk-estimator:hover {\n",
       "  /* unfitted */\n",
       "  background-color: var(--sklearn-color-unfitted-level-2);\n",
       "}\n",
       "\n",
       "#sk-container-id-1 div.sk-estimator.fitted:hover {\n",
       "  /* fitted */\n",
       "  background-color: var(--sklearn-color-fitted-level-2);\n",
       "}\n",
       "\n",
       "/* Specification for estimator info (e.g. \"i\" and \"?\") */\n",
       "\n",
       "/* Common style for \"i\" and \"?\" */\n",
       "\n",
       ".sk-estimator-doc-link,\n",
       "a:link.sk-estimator-doc-link,\n",
       "a:visited.sk-estimator-doc-link {\n",
       "  float: right;\n",
       "  font-size: smaller;\n",
       "  line-height: 1em;\n",
       "  font-family: monospace;\n",
       "  background-color: var(--sklearn-color-background);\n",
       "  border-radius: 1em;\n",
       "  height: 1em;\n",
       "  width: 1em;\n",
       "  text-decoration: none !important;\n",
       "  margin-left: 1ex;\n",
       "  /* unfitted */\n",
       "  border: var(--sklearn-color-unfitted-level-1) 1pt solid;\n",
       "  color: var(--sklearn-color-unfitted-level-1);\n",
       "}\n",
       "\n",
       ".sk-estimator-doc-link.fitted,\n",
       "a:link.sk-estimator-doc-link.fitted,\n",
       "a:visited.sk-estimator-doc-link.fitted {\n",
       "  /* fitted */\n",
       "  border: var(--sklearn-color-fitted-level-1) 1pt solid;\n",
       "  color: var(--sklearn-color-fitted-level-1);\n",
       "}\n",
       "\n",
       "/* On hover */\n",
       "div.sk-estimator:hover .sk-estimator-doc-link:hover,\n",
       ".sk-estimator-doc-link:hover,\n",
       "div.sk-label-container:hover .sk-estimator-doc-link:hover,\n",
       ".sk-estimator-doc-link:hover {\n",
       "  /* unfitted */\n",
       "  background-color: var(--sklearn-color-unfitted-level-3);\n",
       "  color: var(--sklearn-color-background);\n",
       "  text-decoration: none;\n",
       "}\n",
       "\n",
       "div.sk-estimator.fitted:hover .sk-estimator-doc-link.fitted:hover,\n",
       ".sk-estimator-doc-link.fitted:hover,\n",
       "div.sk-label-container:hover .sk-estimator-doc-link.fitted:hover,\n",
       ".sk-estimator-doc-link.fitted:hover {\n",
       "  /* fitted */\n",
       "  background-color: var(--sklearn-color-fitted-level-3);\n",
       "  color: var(--sklearn-color-background);\n",
       "  text-decoration: none;\n",
       "}\n",
       "\n",
       "/* Span, style for the box shown on hovering the info icon */\n",
       ".sk-estimator-doc-link span {\n",
       "  display: none;\n",
       "  z-index: 9999;\n",
       "  position: relative;\n",
       "  font-weight: normal;\n",
       "  right: .2ex;\n",
       "  padding: .5ex;\n",
       "  margin: .5ex;\n",
       "  width: min-content;\n",
       "  min-width: 20ex;\n",
       "  max-width: 50ex;\n",
       "  color: var(--sklearn-color-text);\n",
       "  box-shadow: 2pt 2pt 4pt #999;\n",
       "  /* unfitted */\n",
       "  background: var(--sklearn-color-unfitted-level-0);\n",
       "  border: .5pt solid var(--sklearn-color-unfitted-level-3);\n",
       "}\n",
       "\n",
       ".sk-estimator-doc-link.fitted span {\n",
       "  /* fitted */\n",
       "  background: var(--sklearn-color-fitted-level-0);\n",
       "  border: var(--sklearn-color-fitted-level-3);\n",
       "}\n",
       "\n",
       ".sk-estimator-doc-link:hover span {\n",
       "  display: block;\n",
       "}\n",
       "\n",
       "/* \"?\"-specific style due to the `<a>` HTML tag */\n",
       "\n",
       "#sk-container-id-1 a.estimator_doc_link {\n",
       "  float: right;\n",
       "  font-size: 1rem;\n",
       "  line-height: 1em;\n",
       "  font-family: monospace;\n",
       "  background-color: var(--sklearn-color-background);\n",
       "  border-radius: 1rem;\n",
       "  height: 1rem;\n",
       "  width: 1rem;\n",
       "  text-decoration: none;\n",
       "  /* unfitted */\n",
       "  color: var(--sklearn-color-unfitted-level-1);\n",
       "  border: var(--sklearn-color-unfitted-level-1) 1pt solid;\n",
       "}\n",
       "\n",
       "#sk-container-id-1 a.estimator_doc_link.fitted {\n",
       "  /* fitted */\n",
       "  border: var(--sklearn-color-fitted-level-1) 1pt solid;\n",
       "  color: var(--sklearn-color-fitted-level-1);\n",
       "}\n",
       "\n",
       "/* On hover */\n",
       "#sk-container-id-1 a.estimator_doc_link:hover {\n",
       "  /* unfitted */\n",
       "  background-color: var(--sklearn-color-unfitted-level-3);\n",
       "  color: var(--sklearn-color-background);\n",
       "  text-decoration: none;\n",
       "}\n",
       "\n",
       "#sk-container-id-1 a.estimator_doc_link.fitted:hover {\n",
       "  /* fitted */\n",
       "  background-color: var(--sklearn-color-fitted-level-3);\n",
       "}\n",
       "</style><div id=\"sk-container-id-1\" class=\"sk-top-container\"><div class=\"sk-text-repr-fallback\"><pre>CRF(algorithm=&#x27;lbfgs&#x27;, all_possible_transitions=True, c1=0.11, c2=0.01,\n",
       "    max_iterations=40, verbose=True)</pre><b>In a Jupyter environment, please rerun this cell to show the HTML representation or trust the notebook. <br />On GitHub, the HTML representation is unable to render, please try loading this page with nbviewer.org.</b></div><div class=\"sk-container\" hidden><div class=\"sk-item\"><div class=\"sk-estimator fitted sk-toggleable\"><input class=\"sk-toggleable__control sk-hidden--visually\" id=\"sk-estimator-id-1\" type=\"checkbox\" checked><label for=\"sk-estimator-id-1\" class=\"sk-toggleable__label fitted sk-toggleable__label-arrow fitted\">&nbsp;CRF<span class=\"sk-estimator-doc-link fitted\">i<span>Fitted</span></span></label><div class=\"sk-toggleable__content fitted\"><pre>CRF(algorithm=&#x27;lbfgs&#x27;, all_possible_transitions=True, c1=0.11, c2=0.01,\n",
       "    max_iterations=40, verbose=True)</pre></div> </div></div></div></div>"
      ],
      "text/plain": [
       "CRF(algorithm='lbfgs', all_possible_transitions=True, c1=0.11, c2=0.01,\n",
       "    max_iterations=40, verbose=True)"
      ]
     },
     "execution_count": 26,
     "metadata": {},
     "output_type": "execute_result"
    }
   ],
   "source": [
    "crf.fit(X_train, y_train)"
   ]
  },
  {
   "cell_type": "code",
   "execution_count": 22,
   "metadata": {
    "execution": {
     "iopub.execute_input": "2025-01-25T18:44:13.753050Z",
     "iopub.status.busy": "2025-01-25T18:44:13.752521Z",
     "iopub.status.idle": "2025-01-25T18:44:13.756884Z",
     "shell.execute_reply": "2025-01-25T18:44:13.756023Z",
     "shell.execute_reply.started": "2025-01-25T18:44:13.753024Z"
    },
    "trusted": true
   },
   "outputs": [],
   "source": [
    "end_time = time.time()\n",
    "time_taken = end_time - start_time"
   ]
  },
  {
   "cell_type": "code",
   "execution_count": 23,
   "metadata": {
    "execution": {
     "iopub.execute_input": "2025-01-25T18:44:14.049707Z",
     "iopub.status.busy": "2025-01-25T18:44:14.049473Z",
     "iopub.status.idle": "2025-01-25T18:44:14.054474Z",
     "shell.execute_reply": "2025-01-25T18:44:14.053558Z",
     "shell.execute_reply.started": "2025-01-25T18:44:14.049686Z"
    },
    "trusted": true
   },
   "outputs": [
    {
     "name": "stdout",
     "output_type": "stream",
     "text": [
      "\n",
      "Time taken for fitting: 0.01 seconds\n"
     ]
    }
   ],
   "source": [
    "print(f\"\\nTime taken for fitting: {time_taken:.2f} seconds\")"
   ]
  },
  {
   "cell_type": "code",
   "execution_count": 27,
   "metadata": {},
   "outputs": [],
   "source": [
    "y_pred = crf.predict(X_test)"
   ]
  },
  {
   "cell_type": "code",
   "execution_count": 28,
   "metadata": {
    "execution": {
     "iopub.execute_input": "2025-01-25T18:44:20.805377Z",
     "iopub.status.busy": "2025-01-25T18:44:20.805109Z",
     "iopub.status.idle": "2025-01-25T18:44:20.811724Z",
     "shell.execute_reply": "2025-01-25T18:44:20.811139Z",
     "shell.execute_reply.started": "2025-01-25T18:44:20.805356Z"
    },
    "trusted": true
   },
   "outputs": [],
   "source": [
    "from sklearn_crfsuite import metrics"
   ]
  },
  {
   "cell_type": "code",
   "execution_count": 29,
   "metadata": {
    "execution": {
     "iopub.execute_input": "2025-01-25T18:44:20.812792Z",
     "iopub.status.busy": "2025-01-25T18:44:20.812548Z",
     "iopub.status.idle": "2025-01-25T18:44:30.037520Z",
     "shell.execute_reply": "2025-01-25T18:44:30.036646Z",
     "shell.execute_reply.started": "2025-01-25T18:44:20.812766Z"
    },
    "trusted": true
   },
   "outputs": [
    {
     "name": "stdout",
     "output_type": "stream",
     "text": [
      "F1 Macro Score: 0.7275548903118945\n",
      "\n",
      "Classification Report:\n",
      "              precision    recall  f1-score   support\n",
      "\n",
      "           O      0.986     0.989     0.988    495514\n",
      "       B_ORG      0.901     0.817     0.857     11621\n",
      "       B_PER      0.977     0.967     0.972     10925\n",
      "       B_LOC      0.977     0.945     0.961      8004\n",
      "       B_MEA      0.695     0.607     0.648      7661\n",
      "       I_DTM      0.928     0.916     0.922      8182\n",
      "       I_ORG      0.958     0.984     0.971     10185\n",
      "       E_ORG      0.930     0.929     0.930      6808\n",
      "       I_PER      0.965     0.978     0.972      4948\n",
      "       B_TTL      0.982     0.964     0.973      5005\n",
      "       E_PER      0.970     0.992     0.981      4538\n",
      "       B_DES      0.922     0.863     0.891      4048\n",
      "       E_LOC      0.983     0.987     0.985      7254\n",
      "       B_DTM      0.897     0.770     0.828      3598\n",
      "       B_NUM      0.512     0.645     0.571      3385\n",
      "       I_MEA      0.627     0.760     0.687      2932\n",
      "       E_DTM      0.864     0.825     0.844      3036\n",
      "       E_MEA      0.668     0.748     0.706      2300\n",
      "       I_LOC      0.989     0.999     0.994     10235\n",
      "       I_DES      0.883     0.857     0.870      1985\n",
      "       E_DES      0.876     0.845     0.860      2031\n",
      "       I_NUM      0.671     0.888     0.764       500\n",
      "       E_NUM      0.659     0.797     0.722       291\n",
      "       B_TRM      0.937     0.246     0.389       240\n",
      "       B_BRN      0.833     0.042     0.080       119\n",
      "       I_TRM      0.755     0.416     0.536        89\n",
      "       E_TRM      0.917     0.458     0.611        72\n",
      "       I_TTL      0.889     0.862     0.875        65\n",
      "       I_BRN      0.000     0.000     0.000        23\n",
      "       E_BRN      0.000     0.000     0.000        23\n",
      "       E_TTL      0.895     0.895     0.895        19\n",
      "      B_NAME      0.000     0.000     0.000         1\n",
      "\n",
      "    accuracy                          0.970    615637\n",
      "   macro avg      0.783     0.718     0.728    615637\n",
      "weighted avg      0.970     0.970     0.969    615637\n",
      "\n"
     ]
    }
   ],
   "source": [
    "f1_macro_score = metrics.flat_f1_score(y_test, y_pred, average=\"macro\", labels=label_list, zero_division=0)\n",
    "print(\"F1 Macro Score:\", f1_macro_score)\n",
    "\n",
    "print(\"\\nClassification Report:\")\n",
    "print(metrics.flat_classification_report(y_test, y_pred, labels=label_list, digits=3, zero_division=0))"
   ]
  },
  {
   "cell_type": "markdown",
   "metadata": {},
   "source": [
    "## Hyperparameter Optimization"
   ]
  },
  {
   "cell_type": "markdown",
   "metadata": {},
   "source": [
    "## RandomizedSearchCV"
   ]
  },
  {
   "cell_type": "code",
   "execution_count": 28,
   "metadata": {
    "execution": {
     "iopub.status.busy": "2025-01-25T15:31:12.266843Z",
     "iopub.status.idle": "2025-01-25T15:31:12.267127Z",
     "shell.execute_reply": "2025-01-25T15:31:12.267012Z",
     "shell.execute_reply.started": "2025-01-25T15:31:12.266998Z"
    },
    "trusted": true
   },
   "outputs": [],
   "source": [
    "from sklearn_crfsuite import metrics\n",
    "from sklearn.model_selection import RandomizedSearchCV\n",
    "import scipy.stats\n",
    "from functools import partial"
   ]
  },
  {
   "cell_type": "code",
   "execution_count": 29,
   "metadata": {
    "execution": {
     "iopub.status.busy": "2025-01-25T15:31:12.269039Z",
     "iopub.status.idle": "2025-01-25T15:31:12.269509Z",
     "shell.execute_reply": "2025-01-25T15:31:12.269320Z",
     "shell.execute_reply.started": "2025-01-25T15:31:12.269299Z"
    },
    "trusted": true
   },
   "outputs": [],
   "source": [
    "def sequence_f1_score(y_true, y_pred, labels):\n",
    "    return metrics.flat_f1_score(y_true, y_pred, average=\"macro\", labels=labels, zero_division=0)"
   ]
  },
  {
   "cell_type": "code",
   "execution_count": 30,
   "metadata": {
    "execution": {
     "iopub.status.busy": "2025-01-25T15:31:12.270449Z",
     "iopub.status.idle": "2025-01-25T15:31:12.270840Z",
     "shell.execute_reply": "2025-01-25T15:31:12.270661Z",
     "shell.execute_reply.started": "2025-01-25T15:31:12.270640Z"
    },
    "trusted": true
   },
   "outputs": [],
   "source": [
    "param_distributions = {\n",
    "    'c1': scipy.stats.expon(scale=0.5),\n",
    "    'c2': scipy.stats.expon(scale=0.05),\n",
    "    'max_iterations': [100, 200, 300],\n",
    "    'all_possible_transitions': [True, False],\n",
    "}"
   ]
  },
  {
   "cell_type": "code",
   "execution_count": 31,
   "metadata": {
    "execution": {
     "iopub.status.busy": "2025-01-25T15:31:12.272205Z",
     "iopub.status.idle": "2025-01-25T15:31:12.272605Z",
     "shell.execute_reply": "2025-01-25T15:31:12.272417Z",
     "shell.execute_reply.started": "2025-01-25T15:31:12.272397Z"
    },
    "trusted": true
   },
   "outputs": [],
   "source": [
    "crf = sklearn_crfsuite.CRF(algorithm=\"lbfgs\", verbose=True)"
   ]
  },
  {
   "cell_type": "code",
   "execution_count": 32,
   "metadata": {
    "execution": {
     "iopub.status.busy": "2025-01-25T15:31:12.274171Z",
     "iopub.status.idle": "2025-01-25T15:31:12.274462Z",
     "shell.execute_reply": "2025-01-25T15:31:12.274335Z",
     "shell.execute_reply.started": "2025-01-25T15:31:12.274321Z"
    },
    "trusted": true
   },
   "outputs": [],
   "source": [
    "random_search = RandomizedSearchCV(\n",
    "    estimator=crf,\n",
    "    param_distributions=param_distributions,\n",
    "    n_iter=10,\n",
    "    cv=3,\n",
    "    verbose=1,\n",
    "    n_jobs=-1,\n",
    ")"
   ]
  },
  {
   "cell_type": "code",
   "execution_count": null,
   "metadata": {
    "execution": {
     "iopub.status.busy": "2025-01-25T15:31:12.275443Z",
     "iopub.status.idle": "2025-01-25T15:31:12.275727Z",
     "shell.execute_reply": "2025-01-25T15:31:12.275609Z",
     "shell.execute_reply.started": "2025-01-25T15:31:12.275594Z"
    },
    "trusted": true
   },
   "outputs": [],
   "source": [
    "random_search.fit(X_train, y_train)"
   ]
  },
  {
   "cell_type": "code",
   "execution_count": null,
   "metadata": {
    "execution": {
     "iopub.status.busy": "2025-01-25T15:31:12.276735Z",
     "iopub.status.idle": "2025-01-25T15:31:12.277027Z",
     "shell.execute_reply": "2025-01-25T15:31:12.276877Z",
     "shell.execute_reply.started": "2025-01-25T15:31:12.276865Z"
    },
    "trusted": true
   },
   "outputs": [],
   "source": [
    "best_params = random_search.best_params_\n",
    "print(\"Best Parameters:\", best_params)"
   ]
  },
  {
   "cell_type": "markdown",
   "metadata": {},
   "source": [
    "## Retrain Model"
   ]
  },
  {
   "cell_type": "code",
   "execution_count": 30,
   "metadata": {
    "execution": {
     "iopub.status.busy": "2025-01-25T15:31:12.278219Z",
     "iopub.status.idle": "2025-01-25T15:31:12.278499Z",
     "shell.execute_reply": "2025-01-25T15:31:12.278382Z",
     "shell.execute_reply.started": "2025-01-25T15:31:12.278368Z"
    },
    "trusted": true
   },
   "outputs": [],
   "source": [
    "best_crf = crf #random_search.best_estimator_"
   ]
  },
  {
   "cell_type": "code",
   "execution_count": 31,
   "metadata": {
    "execution": {
     "iopub.status.busy": "2025-01-25T15:31:12.279546Z",
     "iopub.status.idle": "2025-01-25T15:31:12.279963Z",
     "shell.execute_reply": "2025-01-25T15:31:12.279766Z",
     "shell.execute_reply.started": "2025-01-25T15:31:12.279746Z"
    },
    "trusted": true
   },
   "outputs": [],
   "source": [
    "y_pred_best = best_crf.predict(X_test)"
   ]
  },
  {
   "cell_type": "code",
   "execution_count": 32,
   "metadata": {
    "execution": {
     "iopub.status.busy": "2025-01-25T15:31:12.281688Z",
     "iopub.status.idle": "2025-01-25T15:31:12.281969Z",
     "shell.execute_reply": "2025-01-25T15:31:12.281831Z",
     "shell.execute_reply.started": "2025-01-25T15:31:12.281819Z"
    },
    "trusted": true
   },
   "outputs": [
    {
     "ename": "NameError",
     "evalue": "name 'sequence_f1_score' is not defined",
     "output_type": "error",
     "traceback": [
      "\u001b[1;31m---------------------------------------------------------------------------\u001b[0m",
      "\u001b[1;31mNameError\u001b[0m                                 Traceback (most recent call last)",
      "Cell \u001b[1;32mIn[32], line 1\u001b[0m\n\u001b[1;32m----> 1\u001b[0m f1_macro_score \u001b[38;5;241m=\u001b[39m \u001b[43msequence_f1_score\u001b[49m(y_test, y_pred_best, labels\u001b[38;5;241m=\u001b[39mlabel_list)\n\u001b[0;32m      2\u001b[0m \u001b[38;5;28mprint\u001b[39m(\u001b[38;5;124m\"\u001b[39m\u001b[38;5;124mF1 Macro Score (after tuning):\u001b[39m\u001b[38;5;124m\"\u001b[39m, f1_macro_score)\n\u001b[0;32m      4\u001b[0m \u001b[38;5;28mprint\u001b[39m(\u001b[38;5;124m\"\u001b[39m\u001b[38;5;130;01m\\n\u001b[39;00m\u001b[38;5;124mClassification Report (after tuning):\u001b[39m\u001b[38;5;124m\"\u001b[39m)\n",
      "\u001b[1;31mNameError\u001b[0m: name 'sequence_f1_score' is not defined"
     ]
    }
   ],
   "source": [
    "f1_macro_score = sequence_f1_score(y_test, y_pred_best, labels=label_list)\n",
    "print(\"F1 Macro Score (after tuning):\", f1_macro_score)\n",
    "\n",
    "print(\"\\nClassification Report (after tuning):\")\n",
    "print(metrics.flat_classification_report(y_test, y_pred_best, labels=label_list, digits=3, zero_division=0))"
   ]
  },
  {
   "cell_type": "markdown",
   "metadata": {},
   "source": [
    "# Make a Task Prediction"
   ]
  },
  {
   "cell_type": "markdown",
   "metadata": {},
   "source": [
    "## Load Test Data "
   ]
  },
  {
   "cell_type": "code",
   "execution_count": 33,
   "metadata": {
    "execution": {
     "iopub.execute_input": "2025-01-25T18:44:50.607811Z",
     "iopub.status.busy": "2025-01-25T18:44:50.607531Z",
     "iopub.status.idle": "2025-01-25T18:44:50.614094Z",
     "shell.execute_reply": "2025-01-25T18:44:50.613244Z",
     "shell.execute_reply.started": "2025-01-25T18:44:50.607791Z"
    },
    "trusted": true
   },
   "outputs": [],
   "source": [
    "def Read_Test_File(directory_path):\n",
    "    all_sentences_dfs = []\n",
    "\n",
    "    for filename in sorted(os.listdir(directory_path)):\n",
    "        if filename.endswith(\".txt\"):\n",
    "            file_path = os.path.join(directory_path, filename)\n",
    "\n",
    "            sentences = []\n",
    "            current_sentence = []\n",
    "\n",
    "            with open(file_path, \"r\", encoding=\"utf-8\") as file:\n",
    "                for line in file:\n",
    "                    line = line.strip()\n",
    "\n",
    "                    if not line:\n",
    "                        if current_sentence:\n",
    "                            sentences.append(current_sentence)\n",
    "                            current_sentence = []\n",
    "                    else:\n",
    "                        word_data = line.split(\"\\t\")\n",
    "                        if len(word_data) == 3:\n",
    "                            current_sentence.append(word_data)\n",
    "\n",
    "                if current_sentence:  # In case there's no empty line at the end\n",
    "                    sentences.append(current_sentence)\n",
    "\n",
    "            for sentence in sentences:\n",
    "                df = pd.DataFrame(sentence, columns=[\"Word\", \"POS tag\", \"Clause boundary\"])\n",
    "                all_sentences_dfs.append(df)\n",
    "\n",
    "    return all_sentences_dfs"
   ]
  },
  {
   "cell_type": "code",
   "execution_count": 34,
   "metadata": {
    "execution": {
     "iopub.execute_input": "2025-01-25T18:44:52.157696Z",
     "iopub.status.busy": "2025-01-25T18:44:52.157048Z",
     "iopub.status.idle": "2025-01-25T18:44:54.934507Z",
     "shell.execute_reply": "2025-01-25T18:44:54.933814Z",
     "shell.execute_reply.started": "2025-01-25T18:44:52.157668Z"
    },
    "trusted": true
   },
   "outputs": [],
   "source": [
    "test_directory_path = \"test/test\"\n",
    "\n",
    "test_df = Read_Test_File(test_directory_path)"
   ]
  },
  {
   "cell_type": "markdown",
   "metadata": {},
   "source": [
    "## Predict"
   ]
  },
  {
   "cell_type": "code",
   "execution_count": 35,
   "metadata": {
    "execution": {
     "iopub.execute_input": "2025-01-25T18:44:54.936690Z",
     "iopub.status.busy": "2025-01-25T18:44:54.936111Z",
     "iopub.status.idle": "2025-01-25T18:45:39.571581Z",
     "shell.execute_reply": "2025-01-25T18:45:39.570878Z",
     "shell.execute_reply.started": "2025-01-25T18:44:54.936657Z"
    },
    "trusted": true
   },
   "outputs": [],
   "source": [
    "X_test, _ = preprocess_data(test_df)"
   ]
  },
  {
   "cell_type": "code",
   "execution_count": 36,
   "metadata": {
    "execution": {
     "iopub.execute_input": "2025-01-25T18:45:39.572921Z",
     "iopub.status.busy": "2025-01-25T18:45:39.572631Z",
     "iopub.status.idle": "2025-01-25T18:45:41.959514Z",
     "shell.execute_reply": "2025-01-25T18:45:41.958410Z",
     "shell.execute_reply.started": "2025-01-25T18:45:39.572887Z"
    },
    "trusted": true
   },
   "outputs": [],
   "source": [
    "# predicted_labels = best_crf.predict(X_test)\n",
    "predicted_labels = crf.predict(X_test)"
   ]
  },
  {
   "cell_type": "markdown",
   "metadata": {},
   "source": [
    "## Mapping and Save"
   ]
  },
  {
   "cell_type": "code",
   "execution_count": 37,
   "metadata": {
    "execution": {
     "iopub.execute_input": "2025-01-25T18:47:13.282491Z",
     "iopub.status.busy": "2025-01-25T18:47:13.281688Z",
     "iopub.status.idle": "2025-01-25T18:47:13.286550Z",
     "shell.execute_reply": "2025-01-25T18:47:13.285651Z",
     "shell.execute_reply.started": "2025-01-25T18:47:13.282460Z"
    },
    "trusted": true
   },
   "outputs": [],
   "source": [
    "def map_Labels_to_Numbers(predicted_labels, tag_to_number):\n",
    "    mapped_labels = [tag_to_number[label] for sentence in predicted_labels for label in sentence]\n",
    "    \n",
    "    return mapped_labels"
   ]
  },
  {
   "cell_type": "code",
   "execution_count": 38,
   "metadata": {
    "execution": {
     "iopub.execute_input": "2025-01-25T18:47:14.536280Z",
     "iopub.status.busy": "2025-01-25T18:47:14.535704Z",
     "iopub.status.idle": "2025-01-25T18:47:14.541465Z",
     "shell.execute_reply": "2025-01-25T18:47:14.540556Z",
     "shell.execute_reply.started": "2025-01-25T18:47:14.536250Z"
    },
    "trusted": true
   },
   "outputs": [],
   "source": [
    "def Save_submission_File(submission_file, mapped_labels, output_file):\n",
    "    submission_df = pd.read_csv(submission_file)\n",
    "    \n",
    "    label_index = 0 \n",
    "    for i in range(len(submission_df)):\n",
    "        # if pd.isna(submission_df.at[i, 'ne']):  # Check if 'ne' is empty\n",
    "        submission_df.at[i, 'ne'] = mapped_labels[label_index]\n",
    "        label_index += 1\n",
    "        \n",
    "    submission_df.to_csv(output_file, index=False)\n",
    "    print(f\"Updated submission file saved to {output_file}\")\n"
   ]
  },
  {
   "cell_type": "code",
   "execution_count": 39,
   "metadata": {
    "execution": {
     "iopub.execute_input": "2025-01-25T18:47:15.440492Z",
     "iopub.status.busy": "2025-01-25T18:47:15.439720Z",
     "iopub.status.idle": "2025-01-25T18:47:15.444364Z",
     "shell.execute_reply": "2025-01-25T18:47:15.443580Z",
     "shell.execute_reply.started": "2025-01-25T18:47:15.440462Z"
    },
    "trusted": true
   },
   "outputs": [],
   "source": [
    "dict_for_map = dict(zip(tags_df[\"tag\"], tags_df[\"class\"]))"
   ]
  },
  {
   "cell_type": "code",
   "execution_count": 40,
   "metadata": {
    "execution": {
     "iopub.execute_input": "2025-01-25T18:47:15.643833Z",
     "iopub.status.busy": "2025-01-25T18:47:15.643598Z",
     "iopub.status.idle": "2025-01-25T18:47:15.658361Z",
     "shell.execute_reply": "2025-01-25T18:47:15.657658Z",
     "shell.execute_reply.started": "2025-01-25T18:47:15.643813Z"
    },
    "trusted": true
   },
   "outputs": [],
   "source": [
    "mapped_labels = map_Labels_to_Numbers(predicted_labels, dict_for_map)"
   ]
  },
  {
   "cell_type": "code",
   "execution_count": 41,
   "metadata": {
    "execution": {
     "iopub.execute_input": "2025-01-25T18:47:16.594979Z",
     "iopub.status.busy": "2025-01-25T18:47:16.594394Z",
     "iopub.status.idle": "2025-01-25T18:47:16.598392Z",
     "shell.execute_reply": "2025-01-25T18:47:16.597550Z",
     "shell.execute_reply.started": "2025-01-25T18:47:16.594954Z"
    },
    "trusted": true
   },
   "outputs": [],
   "source": [
    "submission_file = \"sample_submission.csv\"\n",
    "\n",
    "output_file = \"sample_submission.csv\""
   ]
  },
  {
   "cell_type": "code",
   "execution_count": 42,
   "metadata": {
    "execution": {
     "iopub.execute_input": "2025-01-25T18:47:16.787127Z",
     "iopub.status.busy": "2025-01-25T18:47:16.786905Z",
     "iopub.status.idle": "2025-01-25T18:47:20.231980Z",
     "shell.execute_reply": "2025-01-25T18:47:20.231192Z",
     "shell.execute_reply.started": "2025-01-25T18:47:16.787108Z"
    },
    "trusted": true
   },
   "outputs": [
    {
     "name": "stdout",
     "output_type": "stream",
     "text": [
      "Updated submission file saved to sample_submission.csv\n"
     ]
    }
   ],
   "source": [
    "Save_submission_File(submission_file, mapped_labels, output_file)"
   ]
  },
  {
   "cell_type": "code",
   "execution_count": null,
   "metadata": {
    "trusted": true
   },
   "outputs": [],
   "source": []
  }
 ],
 "metadata": {
  "kaggle": {
   "accelerator": "nvidiaTeslaT4",
   "dataSources": [
    {
     "databundleVersionId": 10905660,
     "sourceId": 91251,
     "sourceType": "competition"
    }
   ],
   "dockerImageVersionId": 30559,
   "isGpuEnabled": true,
   "isInternetEnabled": true,
   "language": "python",
   "sourceType": "notebook"
  },
  "kernelspec": {
   "display_name": "NLP",
   "language": "python",
   "name": "python3"
  },
  "language_info": {
   "codemirror_mode": {
    "name": "ipython",
    "version": 3
   },
   "file_extension": ".py",
   "mimetype": "text/x-python",
   "name": "python",
   "nbconvert_exporter": "python",
   "pygments_lexer": "ipython3",
   "version": "3.11.10"
  }
 },
 "nbformat": 4,
 "nbformat_minor": 4
}
