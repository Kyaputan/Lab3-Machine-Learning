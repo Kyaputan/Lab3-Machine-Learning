{
 "cells": [
  {
   "cell_type": "code",
   "execution_count": 1,
   "metadata": {},
   "outputs": [
    {
     "name": "stderr",
     "output_type": "stream",
     "text": [
      "C:\\Users\\singk\\AppData\\Local\\Packages\\PythonSoftwareFoundation.Python.3.11_qbz5n2kfra8p0\\LocalCache\\local-packages\\Python311\\site-packages\\tqdm\\auto.py:21: TqdmWarning: IProgress not found. Please update jupyter and ipywidgets. See https://ipywidgets.readthedocs.io/en/stable/user_install.html\n",
      "  from .autonotebook import tqdm as notebook_tqdm\n"
     ]
    },
    {
     "name": "stdout",
     "output_type": "stream",
     "text": [
      "WARNING:tensorflow:From C:\\Users\\singk\\AppData\\Local\\Packages\\PythonSoftwareFoundation.Python.3.11_qbz5n2kfra8p0\\LocalCache\\local-packages\\Python311\\site-packages\\tf_keras\\src\\losses.py:2976: The name tf.losses.sparse_softmax_cross_entropy is deprecated. Please use tf.compat.v1.losses.sparse_softmax_cross_entropy instead.\n",
      "\n"
     ]
    }
   ],
   "source": [
    "import pandas as pd\n",
    "from sentence_transformers import SentenceTransformer, util"
   ]
  },
  {
   "cell_type": "code",
   "execution_count": 10,
   "metadata": {},
   "outputs": [
    {
     "name": "stdout",
     "output_type": "stream",
     "text": [
      "Loading data file now, this could take a while depending on file size\n",
      "Loading took 0.01 seconds\n",
      "\n",
      "Missing values: 1\n",
      "Duplicated values: 0\n",
      "\n",
      "Missing values by column:\n",
      "Code          0\n",
      "Name          0\n",
      "Symptoms      0\n",
      "Treatments    1\n",
      "dtype: int64\n",
      "\n",
      "Unique Values in Each Column:\n",
      "Code          400\n",
      "Name          392\n",
      "Symptoms      395\n",
      "Treatments    386\n",
      "dtype: int64\n"
     ]
    }
   ],
   "source": [
    "import time\n",
    "print(\"Loading data file now, this could take a while depending on file size\")\n",
    "start = time.time()\n",
    "df = pd.read_csv('Diseases_Symptoms.csv')\n",
    "end = time.time()\n",
    "print(\"Loading took \" + str(round(end - start, 2)) + \" seconds\")\n",
    "missing_values = df.isna().sum().sum()\n",
    "duplicated_values = df.duplicated().sum()\n",
    "print(f'\\nMissing values: {missing_values}')\n",
    "print(f'Duplicated values: {duplicated_values}')\n",
    "if missing_values >= 1:\n",
    "    print('\\nMissing values by column:')\n",
    "    print(df.isna().sum())\n",
    "print(\"\\nUnique Values in Each Column:\")\n",
    "print(df.nunique())"
   ]
  },
  {
   "cell_type": "code",
   "execution_count": null,
   "metadata": {},
   "outputs": [
    {
     "data": {
      "text/html": [
       "<div>\n",
       "<style scoped>\n",
       "    .dataframe tbody tr th:only-of-type {\n",
       "        vertical-align: middle;\n",
       "    }\n",
       "\n",
       "    .dataframe tbody tr th {\n",
       "        vertical-align: top;\n",
       "    }\n",
       "\n",
       "    .dataframe thead th {\n",
       "        text-align: right;\n",
       "    }\n",
       "</style>\n",
       "<table border=\"1\" class=\"dataframe\">\n",
       "  <thead>\n",
       "    <tr style=\"text-align: right;\">\n",
       "      <th></th>\n",
       "      <th>Code</th>\n",
       "      <th>Name</th>\n",
       "      <th>Symptoms</th>\n",
       "      <th>Treatments</th>\n",
       "    </tr>\n",
       "  </thead>\n",
       "  <tbody>\n",
       "    <tr>\n",
       "      <th>0</th>\n",
       "      <td>1</td>\n",
       "      <td>Panic disorder</td>\n",
       "      <td>Palpitations, Sweating, Trembling, Shortness o...</td>\n",
       "      <td>Antidepressant medications, Cognitive Behavior...</td>\n",
       "    </tr>\n",
       "    <tr>\n",
       "      <th>1</th>\n",
       "      <td>2</td>\n",
       "      <td>Vocal cord polyp</td>\n",
       "      <td>Hoarseness, Vocal Changes, Vocal Fatigue</td>\n",
       "      <td>Voice Rest, Speech Therapy, Surgical Removal</td>\n",
       "    </tr>\n",
       "    <tr>\n",
       "      <th>2</th>\n",
       "      <td>3</td>\n",
       "      <td>Turner syndrome</td>\n",
       "      <td>Short stature, Gonadal dysgenesis, Webbed neck...</td>\n",
       "      <td>Growth hormone therapy, Estrogen replacement t...</td>\n",
       "    </tr>\n",
       "    <tr>\n",
       "      <th>3</th>\n",
       "      <td>4</td>\n",
       "      <td>Cryptorchidism</td>\n",
       "      <td>Absence or undescended testicle(s), empty scro...</td>\n",
       "      <td>Observation and monitoring (in cases of mild o...</td>\n",
       "    </tr>\n",
       "    <tr>\n",
       "      <th>4</th>\n",
       "      <td>5</td>\n",
       "      <td>Ethylene glycol poisoning-1</td>\n",
       "      <td>Nausea, vomiting, abdominal pain, General mala...</td>\n",
       "      <td>Supportive Measures, Gastric Decontamination, ...</td>\n",
       "    </tr>\n",
       "  </tbody>\n",
       "</table>\n",
       "</div>"
      ],
      "text/plain": [
       "   Code                         Name  \\\n",
       "0     1               Panic disorder   \n",
       "1     2             Vocal cord polyp   \n",
       "2     3              Turner syndrome   \n",
       "3     4               Cryptorchidism   \n",
       "4     5  Ethylene glycol poisoning-1   \n",
       "\n",
       "                                            Symptoms  \\\n",
       "0  Palpitations, Sweating, Trembling, Shortness o...   \n",
       "1           Hoarseness, Vocal Changes, Vocal Fatigue   \n",
       "2  Short stature, Gonadal dysgenesis, Webbed neck...   \n",
       "3  Absence or undescended testicle(s), empty scro...   \n",
       "4  Nausea, vomiting, abdominal pain, General mala...   \n",
       "\n",
       "                                          Treatments  \n",
       "0  Antidepressant medications, Cognitive Behavior...  \n",
       "1       Voice Rest, Speech Therapy, Surgical Removal  \n",
       "2  Growth hormone therapy, Estrogen replacement t...  \n",
       "3  Observation and monitoring (in cases of mild o...  \n",
       "4  Supportive Measures, Gastric Decontamination, ...  "
      ]
     },
     "execution_count": 4,
     "metadata": {},
     "output_type": "execute_result"
    }
   ],
   "source": [
    "df.head()"
   ]
  },
  {
   "cell_type": "code",
   "execution_count": 5,
   "metadata": {},
   "outputs": [
    {
     "name": "stderr",
     "output_type": "stream",
     "text": [
      "C:\\Users\\singk\\AppData\\Local\\Packages\\PythonSoftwareFoundation.Python.3.11_qbz5n2kfra8p0\\LocalCache\\local-packages\\Python311\\site-packages\\huggingface_hub\\file_download.py:147: UserWarning: `huggingface_hub` cache-system uses symlinks by default to efficiently store duplicated files but your machine does not support them in C:\\Users\\singk\\.cache\\huggingface\\hub\\models--sentence-transformers--all-MiniLM-L6-v2. Caching files will still work but in a degraded version that might require more space on your disk. This warning can be disabled by setting the `HF_HUB_DISABLE_SYMLINKS_WARNING` environment variable. For more details, see https://huggingface.co/docs/huggingface_hub/how-to-cache#limitations.\n",
      "To support symlinks on Windows, you either need to activate Developer Mode or to run Python as an administrator. In order to activate developer mode, see this article: https://docs.microsoft.com/en-us/windows/apps/get-started/enable-your-device-for-development\n",
      "  warnings.warn(message)\n"
     ]
    }
   ],
   "source": [
    "model = SentenceTransformer('all-MiniLM-L6-v2')\n",
    "df['Symptom_Embedding'] = df['Symptoms'].apply(lambda x: model.encode(x))"
   ]
  },
  {
   "cell_type": "code",
   "execution_count": 6,
   "metadata": {},
   "outputs": [
    {
     "data": {
      "text/html": [
       "<div>\n",
       "<style scoped>\n",
       "    .dataframe tbody tr th:only-of-type {\n",
       "        vertical-align: middle;\n",
       "    }\n",
       "\n",
       "    .dataframe tbody tr th {\n",
       "        vertical-align: top;\n",
       "    }\n",
       "\n",
       "    .dataframe thead th {\n",
       "        text-align: right;\n",
       "    }\n",
       "</style>\n",
       "<table border=\"1\" class=\"dataframe\">\n",
       "  <thead>\n",
       "    <tr style=\"text-align: right;\">\n",
       "      <th></th>\n",
       "      <th>Code</th>\n",
       "      <th>Name</th>\n",
       "      <th>Symptoms</th>\n",
       "      <th>Treatments</th>\n",
       "      <th>Symptom_Embedding</th>\n",
       "    </tr>\n",
       "  </thead>\n",
       "  <tbody>\n",
       "    <tr>\n",
       "      <th>0</th>\n",
       "      <td>1</td>\n",
       "      <td>Panic disorder</td>\n",
       "      <td>Palpitations, Sweating, Trembling, Shortness o...</td>\n",
       "      <td>Antidepressant medications, Cognitive Behavior...</td>\n",
       "      <td>[0.07893878, -0.027037544, 0.07101002, 0.09278...</td>\n",
       "    </tr>\n",
       "    <tr>\n",
       "      <th>1</th>\n",
       "      <td>2</td>\n",
       "      <td>Vocal cord polyp</td>\n",
       "      <td>Hoarseness, Vocal Changes, Vocal Fatigue</td>\n",
       "      <td>Voice Rest, Speech Therapy, Surgical Removal</td>\n",
       "      <td>[0.041374017, -0.05340638, 0.04670723, 0.02566...</td>\n",
       "    </tr>\n",
       "    <tr>\n",
       "      <th>2</th>\n",
       "      <td>3</td>\n",
       "      <td>Turner syndrome</td>\n",
       "      <td>Short stature, Gonadal dysgenesis, Webbed neck...</td>\n",
       "      <td>Growth hormone therapy, Estrogen replacement t...</td>\n",
       "      <td>[0.016158279, 0.07126421, 0.035114612, -0.0060...</td>\n",
       "    </tr>\n",
       "    <tr>\n",
       "      <th>3</th>\n",
       "      <td>4</td>\n",
       "      <td>Cryptorchidism</td>\n",
       "      <td>Absence or undescended testicle(s), empty scro...</td>\n",
       "      <td>Observation and monitoring (in cases of mild o...</td>\n",
       "      <td>[0.04706858, 0.010907559, -0.08268524, 0.04357...</td>\n",
       "    </tr>\n",
       "    <tr>\n",
       "      <th>4</th>\n",
       "      <td>5</td>\n",
       "      <td>Ethylene glycol poisoning-1</td>\n",
       "      <td>Nausea, vomiting, abdominal pain, General mala...</td>\n",
       "      <td>Supportive Measures, Gastric Decontamination, ...</td>\n",
       "      <td>[0.058652643, -0.03139774, -0.018973239, 0.066...</td>\n",
       "    </tr>\n",
       "  </tbody>\n",
       "</table>\n",
       "</div>"
      ],
      "text/plain": [
       "   Code                         Name  \\\n",
       "0     1               Panic disorder   \n",
       "1     2             Vocal cord polyp   \n",
       "2     3              Turner syndrome   \n",
       "3     4               Cryptorchidism   \n",
       "4     5  Ethylene glycol poisoning-1   \n",
       "\n",
       "                                            Symptoms  \\\n",
       "0  Palpitations, Sweating, Trembling, Shortness o...   \n",
       "1           Hoarseness, Vocal Changes, Vocal Fatigue   \n",
       "2  Short stature, Gonadal dysgenesis, Webbed neck...   \n",
       "3  Absence or undescended testicle(s), empty scro...   \n",
       "4  Nausea, vomiting, abdominal pain, General mala...   \n",
       "\n",
       "                                          Treatments  \\\n",
       "0  Antidepressant medications, Cognitive Behavior...   \n",
       "1       Voice Rest, Speech Therapy, Surgical Removal   \n",
       "2  Growth hormone therapy, Estrogen replacement t...   \n",
       "3  Observation and monitoring (in cases of mild o...   \n",
       "4  Supportive Measures, Gastric Decontamination, ...   \n",
       "\n",
       "                                   Symptom_Embedding  \n",
       "0  [0.07893878, -0.027037544, 0.07101002, 0.09278...  \n",
       "1  [0.041374017, -0.05340638, 0.04670723, 0.02566...  \n",
       "2  [0.016158279, 0.07126421, 0.035114612, -0.0060...  \n",
       "3  [0.04706858, 0.010907559, -0.08268524, 0.04357...  \n",
       "4  [0.058652643, -0.03139774, -0.018973239, 0.066...  "
      ]
     },
     "execution_count": 6,
     "metadata": {},
     "output_type": "execute_result"
    }
   ],
   "source": [
    "df.head()"
   ]
  },
  {
   "cell_type": "code",
   "execution_count": 31,
   "metadata": {},
   "outputs": [],
   "source": [
    "def find_condition_by_symptoms(input_symptoms):\n",
    "    # Generate embedding for the input symptoms\n",
    "    input_embedding = model.encode(input_symptoms)\n",
    "    # Calculate similarity scores with each condition\n",
    "    df['Similarity'] = df['Symptom_Embedding'].apply(lambda x: util.cos_sim(input_embedding, x).item())\n",
    "    # Find the most similar condition\n",
    "    best_match = df.loc[df['Similarity'].idxmax()]\n",
    "    return best_match['Name'], best_match['Treatments']"
   ]
  },
  {
   "cell_type": "code",
   "execution_count": 32,
   "metadata": {},
   "outputs": [
    {
     "name": "stdout",
     "output_type": "stream",
     "text": [
      "Condition: Chagas Disease\n",
      "Recommended Treatments: Antiparasitic medications, medications to manage symptoms, supportive care\n"
     ]
    }
   ],
   "source": [
    "input_symptoms = \"Fever, Weight loss, Loss of appetite\"\n",
    "condition_name, treatments = find_condition_by_symptoms(input_symptoms)\n",
    "\n",
    "print(\"Condition:\", condition_name)\n",
    "print(\"Recommended Treatments:\", treatments)"
   ]
  },
  {
   "cell_type": "code",
   "execution_count": 33,
   "metadata": {},
   "outputs": [
    {
     "name": "stdout",
     "output_type": "stream",
     "text": [
      "Condition: Food Allergy\n",
      "Recommended Treatments: Avoidance of allergenic food, antihistamines, epinephrine (in severe cases)\n"
     ]
    }
   ],
   "source": [
    "input_symptoms = \"Itchy rash, Sneezing, Runny nose, Watery eyes, Cough, Shortness of breath, Wheezing, Fatigue\"\n",
    "condition_name, treatments = find_condition_by_symptoms(input_symptoms)\n",
    "\n",
    "print(\"Condition:\", condition_name)\n",
    "print(\"Recommended Treatments:\", treatments)"
   ]
  },
  {
   "cell_type": "code",
   "execution_count": 34,
   "metadata": {},
   "outputs": [
    {
     "name": "stdout",
     "output_type": "stream",
     "text": [
      "Condition: Gastroenteritis (Stomach Flu)\n",
      "Recommended Treatments: Rest, fluids (electrolyte solutions), bland diet, avoiding irritating foods, over-the-counter medications for symptom relief\n"
     ]
    }
   ],
   "source": [
    "input_symptoms = \"Abdominal pain, Diarrhea, Nausea, Vomiting, Fever, Loss of appetite, Fatigue, Dehydration\"\n",
    "condition_name, treatments = find_condition_by_symptoms(input_symptoms)\n",
    "\n",
    "print(\"Condition:\", condition_name)\n",
    "print(\"Recommended Treatments:\", treatments)"
   ]
  }
 ],
 "metadata": {
  "kernelspec": {
   "display_name": "Python 3",
   "language": "python",
   "name": "python3"
  },
  "language_info": {
   "codemirror_mode": {
    "name": "ipython",
    "version": 3
   },
   "file_extension": ".py",
   "mimetype": "text/x-python",
   "name": "python",
   "nbconvert_exporter": "python",
   "pygments_lexer": "ipython3",
   "version": "3.11.9"
  }
 },
 "nbformat": 4,
 "nbformat_minor": 2
}
